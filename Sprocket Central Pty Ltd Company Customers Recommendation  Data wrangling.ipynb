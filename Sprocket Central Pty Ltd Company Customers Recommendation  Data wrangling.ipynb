{
 "cells": [
  {
   "cell_type": "markdown",
   "metadata": {},
   "source": [
    "## Sprocket Central Pty Ltd Company Customers Recommendation  Data wrangling"
   ]
  },
  {
   "cell_type": "markdown",
   "metadata": {},
   "source": [
    "### About the Dataset"
   ]
  },
  {
   "cell_type": "markdown",
   "metadata": {},
   "source": [
    "**Sprocket Central Pty Ltd**, a medium size bikes & cycling accessories organisation which has a large dataset relating to its customers, but their team is unsure how to effectively analyse it to help optimise its marketing strategy. \n",
    "\n",
    "The client provided us with 3 datasets:\n",
    "\n",
    "- Customer Demographic\n",
    "\n",
    "- Customer Addresses\n",
    "\n",
    "- Transactions data in the past 3 months"
   ]
  },
  {
   "cell_type": "markdown",
   "metadata": {},
   "source": [
    "### Objective of the report\n",
    "\n",
    "Our objective is to review the data quality for the three datasets to ensure that they are ready for our analysis , we will start wrangling and fixing each one of them seperately and then join them together into one dataset"
   ]
  },
  {
   "cell_type": "markdown",
   "metadata": {},
   "source": [
    "In this Phase #1 we will improve the quality of Sprocket Central Pty Ltd’s data through:\n",
    "\n",
    "- Data wrangling and Cleaning\n",
    "\n",
    "- Features engineering\n",
    "\n",
    "- Joinning the datasets together"
   ]
  },
  {
   "cell_type": "markdown",
   "metadata": {},
   "source": [
    "### 1. Data Wrangling & cleaning"
   ]
  },
  {
   "cell_type": "code",
   "execution_count": 1,
   "metadata": {},
   "outputs": [],
   "source": [
    "# Import Libraries\n",
    "import pandas as pd\n",
    "import numpy as np\n",
    "import seaborn as sns\n",
    "import datetime as dt\n",
    "import matplotlib.pyplot as plt\n",
    "import calendar\n",
    "\n",
    "from datetime import datetime\n",
    "%matplotlib inline\n",
    "\n",
    "\n",
    "## Setting max displayed rows to 500, in order to display the full output of any command \n",
    "pd.set_option('display.max_rows', 1000)\n",
    "pd.set_option('display.max_columns', 1000)\n",
    "pd.set_option('display.width', 1000)"
   ]
  },
  {
   "cell_type": "markdown",
   "metadata": {},
   "source": [
    "### Transactions Dataset"
   ]
  },
  {
   "cell_type": "code",
   "execution_count": 2,
   "metadata": {},
   "outputs": [],
   "source": [
    "#Importing The transactions dataset\n",
    "Transactions=pd.read_excel('Transactions.xlsx')"
   ]
  },
  {
   "cell_type": "code",
   "execution_count": 3,
   "metadata": {
    "scrolled": true
   },
   "outputs": [
    {
     "data": {
      "text/html": [
       "<div>\n",
       "<style scoped>\n",
       "    .dataframe tbody tr th:only-of-type {\n",
       "        vertical-align: middle;\n",
       "    }\n",
       "\n",
       "    .dataframe tbody tr th {\n",
       "        vertical-align: top;\n",
       "    }\n",
       "\n",
       "    .dataframe thead th {\n",
       "        text-align: right;\n",
       "    }\n",
       "</style>\n",
       "<table border=\"1\" class=\"dataframe\">\n",
       "  <thead>\n",
       "    <tr style=\"text-align: right;\">\n",
       "      <th></th>\n",
       "      <th>Note: The data and information in this document is reflective of a hypothetical situation and client. This document is to be used for KPMG Virtual Internship purposes only.</th>\n",
       "      <th>Unnamed: 1</th>\n",
       "      <th>Unnamed: 2</th>\n",
       "      <th>Unnamed: 3</th>\n",
       "      <th>Unnamed: 4</th>\n",
       "      <th>Unnamed: 5</th>\n",
       "      <th>Unnamed: 6</th>\n",
       "      <th>Unnamed: 7</th>\n",
       "      <th>Unnamed: 8</th>\n",
       "      <th>Unnamed: 9</th>\n",
       "      <th>Unnamed: 10</th>\n",
       "      <th>Unnamed: 11</th>\n",
       "      <th>Unnamed: 12</th>\n",
       "    </tr>\n",
       "  </thead>\n",
       "  <tbody>\n",
       "    <tr>\n",
       "      <th>0</th>\n",
       "      <td>transaction_id</td>\n",
       "      <td>product_id</td>\n",
       "      <td>customer_id</td>\n",
       "      <td>transaction_date</td>\n",
       "      <td>online_order</td>\n",
       "      <td>order_status</td>\n",
       "      <td>brand</td>\n",
       "      <td>product_line</td>\n",
       "      <td>product_class</td>\n",
       "      <td>product_size</td>\n",
       "      <td>list_price</td>\n",
       "      <td>standard_cost</td>\n",
       "      <td>product_first_sold_date</td>\n",
       "    </tr>\n",
       "  </tbody>\n",
       "</table>\n",
       "</div>"
      ],
      "text/plain": [
       "  Note: The data and information in this document is reflective of a hypothetical situation and client. This document is to be used for KPMG Virtual Internship purposes only.   Unnamed: 1   Unnamed: 2        Unnamed: 3    Unnamed: 4    Unnamed: 5 Unnamed: 6    Unnamed: 7     Unnamed: 8    Unnamed: 9 Unnamed: 10    Unnamed: 11              Unnamed: 12\n",
       "0                                     transaction_id                                                                                                                             product_id  customer_id  transaction_date  online_order  order_status      brand  product_line  product_class  product_size  list_price  standard_cost  product_first_sold_date"
      ]
     },
     "execution_count": 3,
     "metadata": {},
     "output_type": "execute_result"
    }
   ],
   "source": [
    "# checking the data first rows\n",
    "Transactions.head(1)"
   ]
  },
  {
   "cell_type": "markdown",
   "metadata": {},
   "source": [
    "We need to drop the first unnamed row that is created in the dataframe and adjust the first row as header,we will create a function that will remove the header and exchange it with the first row of the data so we can use it in the other dataframes."
   ]
  },
  {
   "cell_type": "code",
   "execution_count": 4,
   "metadata": {},
   "outputs": [],
   "source": [
    "#creating the function\n",
    "def titlehead(x):\n",
    "    x.rename(columns=x.iloc[0], inplace = True)\n",
    "    x.drop([0], inplace = True)"
   ]
  },
  {
   "cell_type": "code",
   "execution_count": 5,
   "metadata": {},
   "outputs": [],
   "source": [
    "# applying the function on the data sets\n",
    "titlehead(Transactions)"
   ]
  },
  {
   "cell_type": "code",
   "execution_count": 6,
   "metadata": {},
   "outputs": [
    {
     "data": {
      "text/html": [
       "<div>\n",
       "<style scoped>\n",
       "    .dataframe tbody tr th:only-of-type {\n",
       "        vertical-align: middle;\n",
       "    }\n",
       "\n",
       "    .dataframe tbody tr th {\n",
       "        vertical-align: top;\n",
       "    }\n",
       "\n",
       "    .dataframe thead th {\n",
       "        text-align: right;\n",
       "    }\n",
       "</style>\n",
       "<table border=\"1\" class=\"dataframe\">\n",
       "  <thead>\n",
       "    <tr style=\"text-align: right;\">\n",
       "      <th></th>\n",
       "      <th>transaction_id</th>\n",
       "      <th>product_id</th>\n",
       "      <th>customer_id</th>\n",
       "      <th>transaction_date</th>\n",
       "      <th>online_order</th>\n",
       "      <th>order_status</th>\n",
       "      <th>brand</th>\n",
       "      <th>product_line</th>\n",
       "      <th>product_class</th>\n",
       "      <th>product_size</th>\n",
       "      <th>list_price</th>\n",
       "      <th>standard_cost</th>\n",
       "      <th>product_first_sold_date</th>\n",
       "    </tr>\n",
       "  </thead>\n",
       "  <tbody>\n",
       "    <tr>\n",
       "      <th>1</th>\n",
       "      <td>1</td>\n",
       "      <td>2</td>\n",
       "      <td>2950</td>\n",
       "      <td>2017-02-25 00:00:00</td>\n",
       "      <td>False</td>\n",
       "      <td>Approved</td>\n",
       "      <td>Solex</td>\n",
       "      <td>Standard</td>\n",
       "      <td>medium</td>\n",
       "      <td>medium</td>\n",
       "      <td>71.49</td>\n",
       "      <td>53.62</td>\n",
       "      <td>41245</td>\n",
       "    </tr>\n",
       "  </tbody>\n",
       "</table>\n",
       "</div>"
      ],
      "text/plain": [
       "  transaction_id product_id customer_id     transaction_date online_order order_status  brand product_line product_class product_size list_price standard_cost product_first_sold_date\n",
       "1              1          2        2950  2017-02-25 00:00:00        False     Approved  Solex     Standard        medium       medium      71.49         53.62                   41245"
      ]
     },
     "execution_count": 6,
     "metadata": {},
     "output_type": "execute_result"
    }
   ],
   "source": [
    "# checking for results\n",
    "Transactions.head(1)"
   ]
  },
  {
   "cell_type": "code",
   "execution_count": 7,
   "metadata": {
    "scrolled": true
   },
   "outputs": [
    {
     "name": "stdout",
     "output_type": "stream",
     "text": [
      "<class 'pandas.core.frame.DataFrame'>\n",
      "Int64Index: 20000 entries, 1 to 20000\n",
      "Data columns (total 13 columns):\n",
      " #   Column                   Non-Null Count  Dtype \n",
      "---  ------                   --------------  ----- \n",
      " 0   transaction_id           20000 non-null  object\n",
      " 1   product_id               20000 non-null  object\n",
      " 2   customer_id              20000 non-null  object\n",
      " 3   transaction_date         20000 non-null  object\n",
      " 4   online_order             19640 non-null  object\n",
      " 5   order_status             20000 non-null  object\n",
      " 6   brand                    19803 non-null  object\n",
      " 7   product_line             19803 non-null  object\n",
      " 8   product_class            19803 non-null  object\n",
      " 9   product_size             19803 non-null  object\n",
      " 10  list_price               20000 non-null  object\n",
      " 11  standard_cost            19803 non-null  object\n",
      " 12  product_first_sold_date  19803 non-null  object\n",
      "dtypes: object(13)\n",
      "memory usage: 2.1+ MB\n"
     ]
    }
   ],
   "source": [
    "# Checking dataset info\n",
    "Transactions.info()"
   ]
  },
  {
   "cell_type": "markdown",
   "metadata": {},
   "source": [
    "The general information about the dataframe points out to several problems:\n",
    "\n",
    "- **list price,standard cost** columns are stored as object, where in fact it should be numeric.\n",
    "- The **Transactions date** column should be converted into datetime columns not object\n",
    "- **Transaction date** column should have year,month name,day,day name columns\n",
    "- **online_order,brand, product line,product class,product size,standard cost and product_first_sold_date** have missing values."
   ]
  },
  {
   "cell_type": "markdown",
   "metadata": {},
   "source": [
    "### Features Engineering"
   ]
  },
  {
   "cell_type": "code",
   "execution_count": 8,
   "metadata": {},
   "outputs": [
    {
     "data": {
      "text/html": [
       "<div>\n",
       "<style scoped>\n",
       "    .dataframe tbody tr th:only-of-type {\n",
       "        vertical-align: middle;\n",
       "    }\n",
       "\n",
       "    .dataframe tbody tr th {\n",
       "        vertical-align: top;\n",
       "    }\n",
       "\n",
       "    .dataframe thead th {\n",
       "        text-align: right;\n",
       "    }\n",
       "</style>\n",
       "<table border=\"1\" class=\"dataframe\">\n",
       "  <thead>\n",
       "    <tr style=\"text-align: right;\">\n",
       "      <th></th>\n",
       "      <th>Missing (count)</th>\n",
       "      <th>Missing (%)</th>\n",
       "    </tr>\n",
       "  </thead>\n",
       "  <tbody>\n",
       "    <tr>\n",
       "      <th>transaction_id</th>\n",
       "      <td>0</td>\n",
       "      <td>0.0</td>\n",
       "    </tr>\n",
       "    <tr>\n",
       "      <th>product_id</th>\n",
       "      <td>0</td>\n",
       "      <td>0.0</td>\n",
       "    </tr>\n",
       "    <tr>\n",
       "      <th>customer_id</th>\n",
       "      <td>0</td>\n",
       "      <td>0.0</td>\n",
       "    </tr>\n",
       "    <tr>\n",
       "      <th>transaction_date</th>\n",
       "      <td>0</td>\n",
       "      <td>0.0</td>\n",
       "    </tr>\n",
       "    <tr>\n",
       "      <th>online_order</th>\n",
       "      <td>360</td>\n",
       "      <td>1.8</td>\n",
       "    </tr>\n",
       "    <tr>\n",
       "      <th>order_status</th>\n",
       "      <td>0</td>\n",
       "      <td>0.0</td>\n",
       "    </tr>\n",
       "    <tr>\n",
       "      <th>brand</th>\n",
       "      <td>197</td>\n",
       "      <td>1.0</td>\n",
       "    </tr>\n",
       "    <tr>\n",
       "      <th>product_line</th>\n",
       "      <td>197</td>\n",
       "      <td>1.0</td>\n",
       "    </tr>\n",
       "    <tr>\n",
       "      <th>product_class</th>\n",
       "      <td>197</td>\n",
       "      <td>1.0</td>\n",
       "    </tr>\n",
       "    <tr>\n",
       "      <th>product_size</th>\n",
       "      <td>197</td>\n",
       "      <td>1.0</td>\n",
       "    </tr>\n",
       "    <tr>\n",
       "      <th>list_price</th>\n",
       "      <td>0</td>\n",
       "      <td>0.0</td>\n",
       "    </tr>\n",
       "    <tr>\n",
       "      <th>standard_cost</th>\n",
       "      <td>197</td>\n",
       "      <td>1.0</td>\n",
       "    </tr>\n",
       "    <tr>\n",
       "      <th>product_first_sold_date</th>\n",
       "      <td>197</td>\n",
       "      <td>1.0</td>\n",
       "    </tr>\n",
       "  </tbody>\n",
       "</table>\n",
       "</div>"
      ],
      "text/plain": [
       "                         Missing (count)  Missing (%)\n",
       "transaction_id                         0          0.0\n",
       "product_id                             0          0.0\n",
       "customer_id                            0          0.0\n",
       "transaction_date                       0          0.0\n",
       "online_order                         360          1.8\n",
       "order_status                           0          0.0\n",
       "brand                                197          1.0\n",
       "product_line                         197          1.0\n",
       "product_class                        197          1.0\n",
       "product_size                         197          1.0\n",
       "list_price                             0          0.0\n",
       "standard_cost                        197          1.0\n",
       "product_first_sold_date              197          1.0"
      ]
     },
     "execution_count": 8,
     "metadata": {},
     "output_type": "execute_result"
    }
   ],
   "source": [
    "# How many missing points in each variable\n",
    "count_missing_Transactions = Transactions.isnull().sum()\n",
    "percent_missing_Transactions = round(Transactions.isnull().sum()/len(Transactions) * 100, 1)\n",
    "missing_Transactions = pd.concat([count_missing_Transactions, percent_missing_Transactions], axis = 1)\n",
    "missing_Transactions.columns = [\"Missing (count)\", \"Missing (%)\"]\n",
    "missing_Transactions"
   ]
  },
  {
   "cell_type": "markdown",
   "metadata": {},
   "source": [
    "**How to deal with Missing Data?**\n",
    "\n",
    "There are many strategies to fill missing data:\n",
    "\n",
    "1. Fill with the mean (better used in case of continous variables without outliers)\n",
    "2. Fill with the median (better used in case of continous variables with outliers)\n",
    "3. Fill with the mode (better used in case of categorical variables)\n",
    "4. Drop the entire variable if the number of missing points is too large\n",
    "5. Drop the rows containing null values if it's not going to affect our analysis\n",
    "\n",
    "**Based on the above strategies:**\n",
    "\n",
    "- **online order:** has just 1.8% missing values, se we will fill them with the mode (the most frequent data point)\n",
    "- **brand, product line,product class,product size,standard cost and product_first_sold_date** have 1% missing values , they seem to have the same missing data pattern, we will remove the rows contatining their null values since it is just 1% and will not affect our analysis"
   ]
  },
  {
   "cell_type": "code",
   "execution_count": 9,
   "metadata": {},
   "outputs": [],
   "source": [
    "# filling the online order column with the mode value \n",
    "Transactions['online_order'] = Transactions['online_order'].fillna(Transactions['online_order'].mode()[0])"
   ]
  },
  {
   "cell_type": "code",
   "execution_count": 10,
   "metadata": {},
   "outputs": [],
   "source": [
    "# Removing other data rows with nul values\n",
    "Transactions.dropna(axis=0,inplace=True)"
   ]
  },
  {
   "cell_type": "code",
   "execution_count": 11,
   "metadata": {
    "scrolled": true
   },
   "outputs": [
    {
     "data": {
      "text/plain": [
       "transaction_id             0\n",
       "product_id                 0\n",
       "customer_id                0\n",
       "transaction_date           0\n",
       "online_order               0\n",
       "order_status               0\n",
       "brand                      0\n",
       "product_line               0\n",
       "product_class              0\n",
       "product_size               0\n",
       "list_price                 0\n",
       "standard_cost              0\n",
       "product_first_sold_date    0\n",
       "dtype: int64"
      ]
     },
     "execution_count": 11,
     "metadata": {},
     "output_type": "execute_result"
    }
   ],
   "source": [
    "# checking results after removing null values\n",
    "\n",
    "Transactions.isnull().sum()"
   ]
  },
  {
   "cell_type": "code",
   "execution_count": 12,
   "metadata": {},
   "outputs": [],
   "source": [
    "# ammending column data types\n",
    "Transactions['list_price']=pd.to_numeric(Transactions['list_price'])\n",
    "Transactions['standard_cost']=pd.to_numeric(Transactions['standard_cost'])\n",
    "Transactions['transaction_date']=pd.to_datetime(Transactions['transaction_date'])"
   ]
  },
  {
   "cell_type": "code",
   "execution_count": 13,
   "metadata": {
    "scrolled": true
   },
   "outputs": [
    {
     "name": "stdout",
     "output_type": "stream",
     "text": [
      "<class 'pandas.core.frame.DataFrame'>\n",
      "Int64Index: 19803 entries, 1 to 20000\n",
      "Data columns (total 13 columns):\n",
      " #   Column                   Non-Null Count  Dtype         \n",
      "---  ------                   --------------  -----         \n",
      " 0   transaction_id           19803 non-null  object        \n",
      " 1   product_id               19803 non-null  object        \n",
      " 2   customer_id              19803 non-null  object        \n",
      " 3   transaction_date         19803 non-null  datetime64[ns]\n",
      " 4   online_order             19803 non-null  bool          \n",
      " 5   order_status             19803 non-null  object        \n",
      " 6   brand                    19803 non-null  object        \n",
      " 7   product_line             19803 non-null  object        \n",
      " 8   product_class            19803 non-null  object        \n",
      " 9   product_size             19803 non-null  object        \n",
      " 10  list_price               19803 non-null  float64       \n",
      " 11  standard_cost            19803 non-null  float64       \n",
      " 12  product_first_sold_date  19803 non-null  object        \n",
      "dtypes: bool(1), datetime64[ns](1), float64(2), object(9)\n",
      "memory usage: 2.0+ MB\n"
     ]
    }
   ],
   "source": [
    "# Checking for the changes info\n",
    "Transactions.info()"
   ]
  },
  {
   "cell_type": "code",
   "execution_count": 14,
   "metadata": {
    "scrolled": true
   },
   "outputs": [
    {
     "data": {
      "text/html": [
       "<div>\n",
       "<style scoped>\n",
       "    .dataframe tbody tr th:only-of-type {\n",
       "        vertical-align: middle;\n",
       "    }\n",
       "\n",
       "    .dataframe tbody tr th {\n",
       "        vertical-align: top;\n",
       "    }\n",
       "\n",
       "    .dataframe thead th {\n",
       "        text-align: right;\n",
       "    }\n",
       "</style>\n",
       "<table border=\"1\" class=\"dataframe\">\n",
       "  <thead>\n",
       "    <tr style=\"text-align: right;\">\n",
       "      <th></th>\n",
       "      <th>transaction_id</th>\n",
       "      <th>product_id</th>\n",
       "      <th>customer_id</th>\n",
       "      <th>transaction_date</th>\n",
       "      <th>online_order</th>\n",
       "      <th>order_status</th>\n",
       "      <th>brand</th>\n",
       "      <th>product_line</th>\n",
       "      <th>product_class</th>\n",
       "      <th>product_size</th>\n",
       "      <th>list_price</th>\n",
       "      <th>standard_cost</th>\n",
       "      <th>product_first_sold_date</th>\n",
       "    </tr>\n",
       "  </thead>\n",
       "  <tbody>\n",
       "  </tbody>\n",
       "</table>\n",
       "</div>"
      ],
      "text/plain": [
       "Empty DataFrame\n",
       "Columns: [transaction_id, product_id, customer_id, transaction_date, online_order, order_status, brand, product_line, product_class, product_size, list_price, standard_cost, product_first_sold_date]\n",
       "Index: []"
      ]
     },
     "execution_count": 14,
     "metadata": {},
     "output_type": "execute_result"
    }
   ],
   "source": [
    "# checking for duplicated rows\n",
    "\n",
    "Transactions[Transactions.duplicated()]"
   ]
  },
  {
   "cell_type": "markdown",
   "metadata": {},
   "source": [
    "There are no duplicated rows in the data"
   ]
  },
  {
   "cell_type": "markdown",
   "metadata": {},
   "source": [
    "we will now check the consistency of the values in each categorical column in the dataset,we will create a list that has all the categorical columns from the data set"
   ]
  },
  {
   "cell_type": "code",
   "execution_count": 15,
   "metadata": {},
   "outputs": [
    {
     "data": {
      "text/plain": [
       "['transaction_id',\n",
       " 'product_id',\n",
       " 'customer_id',\n",
       " 'order_status',\n",
       " 'brand',\n",
       " 'product_line',\n",
       " 'product_class',\n",
       " 'product_size',\n",
       " 'product_first_sold_date']"
      ]
     },
     "execution_count": 15,
     "metadata": {},
     "output_type": "execute_result"
    }
   ],
   "source": [
    "# Collecting the categorical columns into  list\n",
    "cat_col=[]\n",
    "for x in Transactions.dtypes.index:\n",
    "    if Transactions.dtypes[x]=='object':\n",
    "        cat_col.append(x)\n",
    "cat_col"
   ]
  },
  {
   "cell_type": "markdown",
   "metadata": {},
   "source": [
    "listing all the unique values inside each categorical column of the recently created list"
   ]
  },
  {
   "cell_type": "code",
   "execution_count": 16,
   "metadata": {},
   "outputs": [
    {
     "name": "stdout",
     "output_type": "stream",
     "text": [
      "transaction_id\n",
      "[1 2 3 ... 19998 19999 20000]\n",
      "\n",
      "*******\n",
      "\n",
      "product_id\n",
      "[2 3 37 88 78 25 22 15 67 12 5 61 35 16 79 33 54 27 82 89 64 19 72 91 1 99\n",
      " 0 92 14 44 76 46 55 66 81 86 32 77 96 6 47 94 93 60 28 4 38 56 58 50 80\n",
      " 87 84 21 31 62 17 73 45 49 95 18 70 26 39 36 98 75 42 20 24 53 65 29 11\n",
      " 10 7 41 9 69 90 97 100 74 71 34 57 23 51 59 63 40 8 13 30 48 68 83 43 52\n",
      " 85]\n",
      "\n",
      "*******\n",
      "\n",
      "customer_id\n",
      "[2950 3120 402 ... 2764 3168 3464]\n",
      "\n",
      "*******\n",
      "\n",
      "order_status\n",
      "['Approved' 'Cancelled']\n",
      "\n",
      "*******\n",
      "\n",
      "brand\n",
      "['Solex' 'Trek Bicycles' 'OHM Cycles' 'Norco Bicycles' 'Giant Bicycles'\n",
      " 'WeareA2B']\n",
      "\n",
      "*******\n",
      "\n",
      "product_line\n",
      "['Standard' 'Road' 'Mountain' 'Touring']\n",
      "\n",
      "*******\n",
      "\n",
      "product_class\n",
      "['medium' 'low' 'high']\n",
      "\n",
      "*******\n",
      "\n",
      "product_size\n",
      "['medium' 'large' 'small']\n",
      "\n",
      "*******\n",
      "\n",
      "product_first_sold_date\n",
      "[41245 41701 36361 36145 42226 39031 34165 39915 33455 38216 40784 42172\n",
      " 34527 34586 38193 37873 38206 33888 37337 36334 42145 42404 34079 41047\n",
      " 42560 42710 41922 37539 42688 38991 38647 37874 34996 33549 38693 37668\n",
      " 41533 41009 40553 39427 38482 35470 41434 36367 38750 41848 34244 42696\n",
      " 38258 41167 40672 35707 42295 33552 35667 33879 40670 37626 38339 40303\n",
      " 34143 35160 36668 36498 34071 40649 37823 36146 42105 34115 35052 33364\n",
      " 42218 41345 33429 38859 36833 37499 41064 33259 35560 37838 37698 35378\n",
      " 38573 38002 39526 39880 40487 40336 40618 34170 40410 42458 39298 35455\n",
      " 37220 37659 40779 34556]\n",
      "\n",
      "*******\n",
      "\n"
     ]
    }
   ],
   "source": [
    "#checking for duplicated values in the categorical columns nd the accuracy of the values\n",
    "for col in cat_col:\n",
    "    print(col)\n",
    "    print(Transactions[col].unique())\n",
    "    print()\n",
    "    print('*******')\n",
    "    print()"
   ]
  },
  {
   "cell_type": "markdown",
   "metadata": {},
   "source": [
    "**product_first_sold_date** column seem to have a wrong date format which we will ammend"
   ]
  },
  {
   "cell_type": "code",
   "execution_count": 17,
   "metadata": {
    "scrolled": false
   },
   "outputs": [],
   "source": [
    "#converting dates to datetime in pandas\n",
    "def convert_to_datetime(num):\n",
    "    dt = datetime.fromordinal(datetime(1900, 1, 1).toordinal() + num - 2)\n",
    "    return dt"
   ]
  },
  {
   "cell_type": "code",
   "execution_count": 18,
   "metadata": {},
   "outputs": [
    {
     "data": {
      "text/html": [
       "<div>\n",
       "<style scoped>\n",
       "    .dataframe tbody tr th:only-of-type {\n",
       "        vertical-align: middle;\n",
       "    }\n",
       "\n",
       "    .dataframe tbody tr th {\n",
       "        vertical-align: top;\n",
       "    }\n",
       "\n",
       "    .dataframe thead th {\n",
       "        text-align: right;\n",
       "    }\n",
       "</style>\n",
       "<table border=\"1\" class=\"dataframe\">\n",
       "  <thead>\n",
       "    <tr style=\"text-align: right;\">\n",
       "      <th></th>\n",
       "      <th>transaction_id</th>\n",
       "      <th>product_id</th>\n",
       "      <th>customer_id</th>\n",
       "      <th>transaction_date</th>\n",
       "      <th>online_order</th>\n",
       "      <th>order_status</th>\n",
       "      <th>brand</th>\n",
       "      <th>product_line</th>\n",
       "      <th>product_class</th>\n",
       "      <th>product_size</th>\n",
       "      <th>list_price</th>\n",
       "      <th>standard_cost</th>\n",
       "      <th>product_first_sold_date</th>\n",
       "    </tr>\n",
       "  </thead>\n",
       "  <tbody>\n",
       "    <tr>\n",
       "      <th>1</th>\n",
       "      <td>1</td>\n",
       "      <td>2</td>\n",
       "      <td>2950</td>\n",
       "      <td>2017-02-25</td>\n",
       "      <td>False</td>\n",
       "      <td>Approved</td>\n",
       "      <td>Solex</td>\n",
       "      <td>Standard</td>\n",
       "      <td>medium</td>\n",
       "      <td>medium</td>\n",
       "      <td>71.49</td>\n",
       "      <td>53.62</td>\n",
       "      <td>2012-12-02</td>\n",
       "    </tr>\n",
       "    <tr>\n",
       "      <th>2</th>\n",
       "      <td>2</td>\n",
       "      <td>3</td>\n",
       "      <td>3120</td>\n",
       "      <td>2017-05-21</td>\n",
       "      <td>True</td>\n",
       "      <td>Approved</td>\n",
       "      <td>Trek Bicycles</td>\n",
       "      <td>Standard</td>\n",
       "      <td>medium</td>\n",
       "      <td>large</td>\n",
       "      <td>2091.47</td>\n",
       "      <td>388.92</td>\n",
       "      <td>2014-03-03</td>\n",
       "    </tr>\n",
       "    <tr>\n",
       "      <th>3</th>\n",
       "      <td>3</td>\n",
       "      <td>37</td>\n",
       "      <td>402</td>\n",
       "      <td>2017-10-16</td>\n",
       "      <td>False</td>\n",
       "      <td>Approved</td>\n",
       "      <td>OHM Cycles</td>\n",
       "      <td>Standard</td>\n",
       "      <td>low</td>\n",
       "      <td>medium</td>\n",
       "      <td>1793.43</td>\n",
       "      <td>248.82</td>\n",
       "      <td>1999-07-20</td>\n",
       "    </tr>\n",
       "    <tr>\n",
       "      <th>4</th>\n",
       "      <td>4</td>\n",
       "      <td>88</td>\n",
       "      <td>3135</td>\n",
       "      <td>2017-08-31</td>\n",
       "      <td>False</td>\n",
       "      <td>Approved</td>\n",
       "      <td>Norco Bicycles</td>\n",
       "      <td>Standard</td>\n",
       "      <td>medium</td>\n",
       "      <td>medium</td>\n",
       "      <td>1198.46</td>\n",
       "      <td>381.10</td>\n",
       "      <td>1998-12-16</td>\n",
       "    </tr>\n",
       "    <tr>\n",
       "      <th>5</th>\n",
       "      <td>5</td>\n",
       "      <td>78</td>\n",
       "      <td>787</td>\n",
       "      <td>2017-10-01</td>\n",
       "      <td>True</td>\n",
       "      <td>Approved</td>\n",
       "      <td>Giant Bicycles</td>\n",
       "      <td>Standard</td>\n",
       "      <td>medium</td>\n",
       "      <td>large</td>\n",
       "      <td>1765.30</td>\n",
       "      <td>709.48</td>\n",
       "      <td>2015-08-10</td>\n",
       "    </tr>\n",
       "  </tbody>\n",
       "</table>\n",
       "</div>"
      ],
      "text/plain": [
       "  transaction_id product_id customer_id transaction_date  online_order order_status           brand product_line product_class product_size  list_price  standard_cost product_first_sold_date\n",
       "1              1          2        2950       2017-02-25         False     Approved           Solex     Standard        medium       medium       71.49          53.62              2012-12-02\n",
       "2              2          3        3120       2017-05-21          True     Approved   Trek Bicycles     Standard        medium        large     2091.47         388.92              2014-03-03\n",
       "3              3         37         402       2017-10-16         False     Approved      OHM Cycles     Standard           low       medium     1793.43         248.82              1999-07-20\n",
       "4              4         88        3135       2017-08-31         False     Approved  Norco Bicycles     Standard        medium       medium     1198.46         381.10              1998-12-16\n",
       "5              5         78         787       2017-10-01          True     Approved  Giant Bicycles     Standard        medium        large     1765.30         709.48              2015-08-10"
      ]
     },
     "execution_count": 18,
     "metadata": {},
     "output_type": "execute_result"
    }
   ],
   "source": [
    "#applying the function on the date transactions\n",
    "Transactions['product_first_sold_date']=Transactions['product_first_sold_date'].apply(convert_to_datetime)\n",
    "Transactions.head()"
   ]
  },
  {
   "cell_type": "markdown",
   "metadata": {},
   "source": [
    "We will create new variables as follows:\n",
    "\n",
    "1. Transaction year\n",
    "2. Transaction month name\n",
    "3. Transaction day\n",
    "4. Transaction day name"
   ]
  },
  {
   "cell_type": "code",
   "execution_count": 19,
   "metadata": {},
   "outputs": [],
   "source": [
    "# Changing transactions date column into transaction year,month,day,day_name columns\n",
    "Transactions['Transaction_year']=Transactions['transaction_date'].dt.year\n",
    "Transactions['Transaction_month']=Transactions['transaction_date'].dt.month_name()\n",
    "Transactions['Transaction_day']=Transactions['transaction_date'].dt.day\n",
    "Transactions['day_of_the_week']=Transactions['transaction_date'].dt.day_name()\n",
    "\n",
    "# converting the transaction year , day columnes into string columns\n",
    "Transactions['Transaction_year']=Transactions['Transaction_year'].astype(str)\n",
    "Transactions['Transaction_day']=Transactions['Transaction_day'].astype(str)"
   ]
  },
  {
   "cell_type": "markdown",
   "metadata": {},
   "source": [
    "**Transactions dataset is clean and ready for analysis**"
   ]
  },
  {
   "cell_type": "code",
   "execution_count": null,
   "metadata": {},
   "outputs": [],
   "source": [
    "### Customer demographics dataset"
   ]
  },
  {
   "cell_type": "code",
   "execution_count": 21,
   "metadata": {},
   "outputs": [],
   "source": [
    "#Importing customer demographics dataset\n",
    "Customer_demographic=pd.read_excel('Customer demographic.xlsx')"
   ]
  },
  {
   "cell_type": "code",
   "execution_count": 22,
   "metadata": {},
   "outputs": [
    {
     "data": {
      "text/html": [
       "<div>\n",
       "<style scoped>\n",
       "    .dataframe tbody tr th:only-of-type {\n",
       "        vertical-align: middle;\n",
       "    }\n",
       "\n",
       "    .dataframe tbody tr th {\n",
       "        vertical-align: top;\n",
       "    }\n",
       "\n",
       "    .dataframe thead th {\n",
       "        text-align: right;\n",
       "    }\n",
       "</style>\n",
       "<table border=\"1\" class=\"dataframe\">\n",
       "  <thead>\n",
       "    <tr style=\"text-align: right;\">\n",
       "      <th></th>\n",
       "      <th>Note: The data and information in this document is reflective of a hypothetical situation and client. This document is to be used for KPMG Virtual Internship purposes only.</th>\n",
       "      <th>Unnamed: 1</th>\n",
       "      <th>Unnamed: 2</th>\n",
       "      <th>Unnamed: 3</th>\n",
       "      <th>Unnamed: 4</th>\n",
       "      <th>Unnamed: 5</th>\n",
       "      <th>Unnamed: 6</th>\n",
       "      <th>Unnamed: 7</th>\n",
       "      <th>Unnamed: 8</th>\n",
       "      <th>Unnamed: 9</th>\n",
       "      <th>Unnamed: 10</th>\n",
       "      <th>Unnamed: 11</th>\n",
       "      <th>Unnamed: 12</th>\n",
       "    </tr>\n",
       "  </thead>\n",
       "  <tbody>\n",
       "    <tr>\n",
       "      <th>0</th>\n",
       "      <td>customer_id</td>\n",
       "      <td>first_name</td>\n",
       "      <td>last_name</td>\n",
       "      <td>gender</td>\n",
       "      <td>past_3_years_bike_related_purchases</td>\n",
       "      <td>DOB</td>\n",
       "      <td>job_title</td>\n",
       "      <td>job_industry_category</td>\n",
       "      <td>wealth_segment</td>\n",
       "      <td>deceased_indicator</td>\n",
       "      <td>default</td>\n",
       "      <td>owns_car</td>\n",
       "      <td>tenure</td>\n",
       "    </tr>\n",
       "    <tr>\n",
       "      <th>1</th>\n",
       "      <td>1</td>\n",
       "      <td>Laraine</td>\n",
       "      <td>Medendorp</td>\n",
       "      <td>F</td>\n",
       "      <td>93</td>\n",
       "      <td>1953-10-12 00:00:00</td>\n",
       "      <td>Executive Secretary</td>\n",
       "      <td>Health</td>\n",
       "      <td>Mass Customer</td>\n",
       "      <td>N</td>\n",
       "      <td>\"'</td>\n",
       "      <td>Yes</td>\n",
       "      <td>11</td>\n",
       "    </tr>\n",
       "  </tbody>\n",
       "</table>\n",
       "</div>"
      ],
      "text/plain": [
       "  Note: The data and information in this document is reflective of a hypothetical situation and client. This document is to be used for KPMG Virtual Internship purposes only.   Unnamed: 1 Unnamed: 2 Unnamed: 3                           Unnamed: 4           Unnamed: 5           Unnamed: 6             Unnamed: 7      Unnamed: 8          Unnamed: 9 Unnamed: 10 Unnamed: 11 Unnamed: 12\n",
       "0                                        customer_id                                                                                                                             first_name  last_name     gender  past_3_years_bike_related_purchases                  DOB            job_title  job_industry_category  wealth_segment  deceased_indicator     default    owns_car      tenure\n",
       "1                                                  1                                                                                                                                Laraine  Medendorp          F                                   93  1953-10-12 00:00:00  Executive Secretary                 Health   Mass Customer                   N          \"'         Yes          11"
      ]
     },
     "execution_count": 22,
     "metadata": {},
     "output_type": "execute_result"
    }
   ],
   "source": [
    "#checking dataset head\n",
    "Customer_demographic.head(2)"
   ]
  },
  {
   "cell_type": "markdown",
   "metadata": {},
   "source": [
    "Making the first row as header using the (titlehead) function created"
   ]
  },
  {
   "cell_type": "code",
   "execution_count": 23,
   "metadata": {},
   "outputs": [],
   "source": [
    "titlehead(Customer_demographic)"
   ]
  },
  {
   "cell_type": "code",
   "execution_count": 24,
   "metadata": {
    "scrolled": true
   },
   "outputs": [
    {
     "data": {
      "text/html": [
       "<div>\n",
       "<style scoped>\n",
       "    .dataframe tbody tr th:only-of-type {\n",
       "        vertical-align: middle;\n",
       "    }\n",
       "\n",
       "    .dataframe tbody tr th {\n",
       "        vertical-align: top;\n",
       "    }\n",
       "\n",
       "    .dataframe thead th {\n",
       "        text-align: right;\n",
       "    }\n",
       "</style>\n",
       "<table border=\"1\" class=\"dataframe\">\n",
       "  <thead>\n",
       "    <tr style=\"text-align: right;\">\n",
       "      <th></th>\n",
       "      <th>customer_id</th>\n",
       "      <th>first_name</th>\n",
       "      <th>last_name</th>\n",
       "      <th>gender</th>\n",
       "      <th>past_3_years_bike_related_purchases</th>\n",
       "      <th>DOB</th>\n",
       "      <th>job_title</th>\n",
       "      <th>job_industry_category</th>\n",
       "      <th>wealth_segment</th>\n",
       "      <th>deceased_indicator</th>\n",
       "      <th>default</th>\n",
       "      <th>owns_car</th>\n",
       "      <th>tenure</th>\n",
       "    </tr>\n",
       "  </thead>\n",
       "  <tbody>\n",
       "    <tr>\n",
       "      <th>1</th>\n",
       "      <td>1</td>\n",
       "      <td>Laraine</td>\n",
       "      <td>Medendorp</td>\n",
       "      <td>F</td>\n",
       "      <td>93</td>\n",
       "      <td>1953-10-12 00:00:00</td>\n",
       "      <td>Executive Secretary</td>\n",
       "      <td>Health</td>\n",
       "      <td>Mass Customer</td>\n",
       "      <td>N</td>\n",
       "      <td>\"'</td>\n",
       "      <td>Yes</td>\n",
       "      <td>11</td>\n",
       "    </tr>\n",
       "    <tr>\n",
       "      <th>2</th>\n",
       "      <td>2</td>\n",
       "      <td>Eli</td>\n",
       "      <td>Bockman</td>\n",
       "      <td>Male</td>\n",
       "      <td>81</td>\n",
       "      <td>1980-12-16 00:00:00</td>\n",
       "      <td>Administrative Officer</td>\n",
       "      <td>Financial Services</td>\n",
       "      <td>Mass Customer</td>\n",
       "      <td>N</td>\n",
       "      <td>&lt;script&gt;alert('hi')&lt;/script&gt;</td>\n",
       "      <td>Yes</td>\n",
       "      <td>16</td>\n",
       "    </tr>\n",
       "  </tbody>\n",
       "</table>\n",
       "</div>"
      ],
      "text/plain": [
       "  customer_id first_name  last_name gender past_3_years_bike_related_purchases                  DOB               job_title job_industry_category wealth_segment deceased_indicator                       default owns_car tenure\n",
       "1           1    Laraine  Medendorp      F                                  93  1953-10-12 00:00:00     Executive Secretary                Health  Mass Customer                  N                            \"'      Yes     11\n",
       "2           2        Eli    Bockman   Male                                  81  1980-12-16 00:00:00  Administrative Officer    Financial Services  Mass Customer                  N  <script>alert('hi')</script>      Yes     16"
      ]
     },
     "execution_count": 24,
     "metadata": {},
     "output_type": "execute_result"
    }
   ],
   "source": [
    "#checking results\n",
    "Customer_demographic.head(2)"
   ]
  },
  {
   "cell_type": "code",
   "execution_count": 25,
   "metadata": {
    "scrolled": true
   },
   "outputs": [
    {
     "name": "stdout",
     "output_type": "stream",
     "text": [
      "<class 'pandas.core.frame.DataFrame'>\n",
      "Int64Index: 4000 entries, 1 to 4000\n",
      "Data columns (total 13 columns):\n",
      " #   Column                               Non-Null Count  Dtype \n",
      "---  ------                               --------------  ----- \n",
      " 0   customer_id                          4000 non-null   object\n",
      " 1   first_name                           4000 non-null   object\n",
      " 2   last_name                            3875 non-null   object\n",
      " 3   gender                               4000 non-null   object\n",
      " 4   past_3_years_bike_related_purchases  4000 non-null   object\n",
      " 5   DOB                                  3913 non-null   object\n",
      " 6   job_title                            3494 non-null   object\n",
      " 7   job_industry_category                3344 non-null   object\n",
      " 8   wealth_segment                       4000 non-null   object\n",
      " 9   deceased_indicator                   4000 non-null   object\n",
      " 10  default                              3698 non-null   object\n",
      " 11  owns_car                             4000 non-null   object\n",
      " 12  tenure                               3913 non-null   object\n",
      "dtypes: object(13)\n",
      "memory usage: 437.5+ KB\n"
     ]
    }
   ],
   "source": [
    "Customer_demographic.info()"
   ]
  },
  {
   "cell_type": "markdown",
   "metadata": {},
   "source": [
    "The general information about the dataframe points out to several problems:\n",
    "\n",
    "1. **past_3_years_bike_related_purchases,tenure** is stored as object, where in fact it has no numeric meaning.\n",
    "2. **DOB** is stored as object where it should be converted to datetime\n",
    "3. **last_name,DOB,job_title,job_industry_category,default,tenure** has null values"
   ]
  },
  {
   "cell_type": "markdown",
   "metadata": {},
   "source": [
    "### Features Engineering"
   ]
  },
  {
   "cell_type": "code",
   "execution_count": 26,
   "metadata": {
    "scrolled": true
   },
   "outputs": [
    {
     "data": {
      "text/html": [
       "<div>\n",
       "<style scoped>\n",
       "    .dataframe tbody tr th:only-of-type {\n",
       "        vertical-align: middle;\n",
       "    }\n",
       "\n",
       "    .dataframe tbody tr th {\n",
       "        vertical-align: top;\n",
       "    }\n",
       "\n",
       "    .dataframe thead th {\n",
       "        text-align: right;\n",
       "    }\n",
       "</style>\n",
       "<table border=\"1\" class=\"dataframe\">\n",
       "  <thead>\n",
       "    <tr style=\"text-align: right;\">\n",
       "      <th></th>\n",
       "      <th>Missing (count)</th>\n",
       "      <th>Missing (%)</th>\n",
       "    </tr>\n",
       "  </thead>\n",
       "  <tbody>\n",
       "    <tr>\n",
       "      <th>customer_id</th>\n",
       "      <td>0</td>\n",
       "      <td>0.0</td>\n",
       "    </tr>\n",
       "    <tr>\n",
       "      <th>first_name</th>\n",
       "      <td>0</td>\n",
       "      <td>0.0</td>\n",
       "    </tr>\n",
       "    <tr>\n",
       "      <th>last_name</th>\n",
       "      <td>125</td>\n",
       "      <td>3.1</td>\n",
       "    </tr>\n",
       "    <tr>\n",
       "      <th>gender</th>\n",
       "      <td>0</td>\n",
       "      <td>0.0</td>\n",
       "    </tr>\n",
       "    <tr>\n",
       "      <th>past_3_years_bike_related_purchases</th>\n",
       "      <td>0</td>\n",
       "      <td>0.0</td>\n",
       "    </tr>\n",
       "    <tr>\n",
       "      <th>DOB</th>\n",
       "      <td>87</td>\n",
       "      <td>2.2</td>\n",
       "    </tr>\n",
       "    <tr>\n",
       "      <th>job_title</th>\n",
       "      <td>506</td>\n",
       "      <td>12.6</td>\n",
       "    </tr>\n",
       "    <tr>\n",
       "      <th>job_industry_category</th>\n",
       "      <td>656</td>\n",
       "      <td>16.4</td>\n",
       "    </tr>\n",
       "    <tr>\n",
       "      <th>wealth_segment</th>\n",
       "      <td>0</td>\n",
       "      <td>0.0</td>\n",
       "    </tr>\n",
       "    <tr>\n",
       "      <th>deceased_indicator</th>\n",
       "      <td>0</td>\n",
       "      <td>0.0</td>\n",
       "    </tr>\n",
       "    <tr>\n",
       "      <th>default</th>\n",
       "      <td>302</td>\n",
       "      <td>7.6</td>\n",
       "    </tr>\n",
       "    <tr>\n",
       "      <th>owns_car</th>\n",
       "      <td>0</td>\n",
       "      <td>0.0</td>\n",
       "    </tr>\n",
       "    <tr>\n",
       "      <th>tenure</th>\n",
       "      <td>87</td>\n",
       "      <td>2.2</td>\n",
       "    </tr>\n",
       "  </tbody>\n",
       "</table>\n",
       "</div>"
      ],
      "text/plain": [
       "                                     Missing (count)  Missing (%)\n",
       "customer_id                                        0          0.0\n",
       "first_name                                         0          0.0\n",
       "last_name                                        125          3.1\n",
       "gender                                             0          0.0\n",
       "past_3_years_bike_related_purchases                0          0.0\n",
       "DOB                                               87          2.2\n",
       "job_title                                        506         12.6\n",
       "job_industry_category                            656         16.4\n",
       "wealth_segment                                     0          0.0\n",
       "deceased_indicator                                 0          0.0\n",
       "default                                          302          7.6\n",
       "owns_car                                           0          0.0\n",
       "tenure                                            87          2.2"
      ]
     },
     "execution_count": 26,
     "metadata": {},
     "output_type": "execute_result"
    }
   ],
   "source": [
    "# How many missing points in each variable\n",
    "count_missing_Customer_demographic = Customer_demographic.isnull().sum()\n",
    "percent_missing_Customer_demographic = round(Customer_demographic.isnull().sum()/len(Customer_demographic) * 100, 1)\n",
    "missing_train = pd.concat([count_missing_Customer_demographic, percent_missing_Customer_demographic], axis = 1)\n",
    "missing_train.columns = [\"Missing (count)\", \"Missing (%)\"]\n",
    "missing_train"
   ]
  },
  {
   "cell_type": "markdown",
   "metadata": {},
   "source": [
    "**Dealing with Missing Data**\n",
    "\n",
    "all of the columns are categorical columns so either i will fill in the null values with the mode of these columns or i will drop the column entirley if the missing percentage is high\n",
    "\n",
    "1. **last_name:** has just 3.1% missing values, so we fill nulls with mode\n",
    "2. **DOB:** has 2.2% so we fill nulls with mode\n",
    "3. **job_title:** has 12.6% we will fill these values with mode\n",
    "4. **job_industry_category:** has 16.4% so we fill nulls with mode\n",
    "5. **default:** has 7.6% so we fill nulls with mode\n",
    "6. **Tenure:** has 2.2% missing from the column so we will fill it with mean"
   ]
  },
  {
   "cell_type": "code",
   "execution_count": 27,
   "metadata": {},
   "outputs": [],
   "source": [
    "#Filling in columns with mode \n",
    "Customer_demographic['last_name'] = Customer_demographic['last_name'].fillna(Customer_demographic['last_name'].mode()[0])\n",
    "Customer_demographic['DOB'] = Customer_demographic['DOB'].fillna(Customer_demographic['DOB'].mode()[0])\n",
    "Customer_demographic['job_title'] = Customer_demographic['job_title'].fillna(Customer_demographic['job_title'].mode()[0])\n",
    "Customer_demographic['job_industry_category'] = Customer_demographic['job_industry_category'].fillna(Customer_demographic['job_industry_category'].mode()[0])\n",
    "Customer_demographic['default'] = Customer_demographic['default'].fillna(Customer_demographic['default'].mode()[0])\n",
    "Customer_demographic['tenure'] = Customer_demographic['tenure'].fillna(Customer_demographic['tenure'].mean())"
   ]
  },
  {
   "cell_type": "code",
   "execution_count": 28,
   "metadata": {},
   "outputs": [],
   "source": [
    "# Changing column values types\n",
    "Customer_demographic['past_3_years_bike_related_purchases']=pd.to_numeric(Customer_demographic['past_3_years_bike_related_purchases'])\n",
    "Customer_demographic['tenure']=pd.to_numeric(Customer_demographic['tenure'])\n",
    "Customer_demographic['DOB']=pd.to_datetime(Customer_demographic['DOB'])"
   ]
  },
  {
   "cell_type": "code",
   "execution_count": 29,
   "metadata": {},
   "outputs": [
    {
     "data": {
      "text/html": [
       "<div>\n",
       "<style scoped>\n",
       "    .dataframe tbody tr th:only-of-type {\n",
       "        vertical-align: middle;\n",
       "    }\n",
       "\n",
       "    .dataframe tbody tr th {\n",
       "        vertical-align: top;\n",
       "    }\n",
       "\n",
       "    .dataframe thead th {\n",
       "        text-align: right;\n",
       "    }\n",
       "</style>\n",
       "<table border=\"1\" class=\"dataframe\">\n",
       "  <thead>\n",
       "    <tr style=\"text-align: right;\">\n",
       "      <th></th>\n",
       "      <th>customer_id</th>\n",
       "      <th>first_name</th>\n",
       "      <th>last_name</th>\n",
       "      <th>gender</th>\n",
       "      <th>past_3_years_bike_related_purchases</th>\n",
       "      <th>DOB</th>\n",
       "      <th>job_title</th>\n",
       "      <th>job_industry_category</th>\n",
       "      <th>wealth_segment</th>\n",
       "      <th>deceased_indicator</th>\n",
       "      <th>default</th>\n",
       "      <th>owns_car</th>\n",
       "      <th>tenure</th>\n",
       "    </tr>\n",
       "  </thead>\n",
       "  <tbody>\n",
       "  </tbody>\n",
       "</table>\n",
       "</div>"
      ],
      "text/plain": [
       "Empty DataFrame\n",
       "Columns: [customer_id, first_name, last_name, gender, past_3_years_bike_related_purchases, DOB, job_title, job_industry_category, wealth_segment, deceased_indicator, default, owns_car, tenure]\n",
       "Index: []"
      ]
     },
     "execution_count": 29,
     "metadata": {},
     "output_type": "execute_result"
    }
   ],
   "source": [
    "# checking for duplicated rows \n",
    "Customer_demographic[Customer_demographic.duplicated()]"
   ]
  },
  {
   "cell_type": "markdown",
   "metadata": {},
   "source": [
    "There are no duplicate rows"
   ]
  },
  {
   "cell_type": "code",
   "execution_count": 30,
   "metadata": {},
   "outputs": [
    {
     "data": {
      "text/plain": [
       "['customer_id',\n",
       " 'first_name',\n",
       " 'last_name',\n",
       " 'gender',\n",
       " 'job_title',\n",
       " 'job_industry_category',\n",
       " 'wealth_segment',\n",
       " 'deceased_indicator',\n",
       " 'default',\n",
       " 'owns_car']"
      ]
     },
     "execution_count": 30,
     "metadata": {},
     "output_type": "execute_result"
    }
   ],
   "source": [
    "# Collecting the categorical columns into  list\n",
    "\n",
    "cat_col=[]\n",
    "for x in Customer_demographic.dtypes.index:\n",
    "    if Customer_demographic.dtypes[x]=='object':\n",
    "        cat_col.append(x)\n",
    "cat_col"
   ]
  },
  {
   "cell_type": "code",
   "execution_count": 31,
   "metadata": {},
   "outputs": [
    {
     "name": "stdout",
     "output_type": "stream",
     "text": [
      "customer_id\n",
      "[1 2 3 ... 3998 3999 4000]\n",
      "\n",
      "*******\n",
      "\n",
      "first_name\n",
      "['Laraine' 'Eli' 'Arlin' ... 'Stephie' 'Rusty' 'Sarene']\n",
      "\n",
      "*******\n",
      "\n",
      "last_name\n",
      "['Medendorp' 'Bockman' 'Dearle' ... 'Halgarth' 'Woolley' 'Oldland']\n",
      "\n",
      "*******\n",
      "\n",
      "gender\n",
      "['F' 'Male' 'Female' 'U' 'Femal' 'M']\n",
      "\n",
      "*******\n",
      "\n",
      "job_title\n",
      "['Executive Secretary' 'Administrative Officer' 'Recruiting Manager'\n",
      " 'Business Systems Development Analyst' 'Senior Editor' 'Media Manager I'\n",
      " 'Senior Quality Engineer' 'Nuclear Power Engineer' 'Developer I'\n",
      " 'Account Executive' 'Junior Executive' 'Media Manager IV'\n",
      " 'Sales Associate' 'Professor' 'Geological Engineer' 'Project Manager'\n",
      " 'Safety Technician I' 'Research Assistant I' 'Accounting Assistant III'\n",
      " 'Editor' 'Research Nurse' 'Safety Technician III' 'Staff Accountant III'\n",
      " 'Legal Assistant' 'Product Engineer' 'Information Systems Manager'\n",
      " 'VP Quality Control' 'Social Worker' 'Senior Cost Accountant'\n",
      " 'Assistant Media Planner' 'Payment Adjustment Coordinator' 'Food Chemist'\n",
      " 'Accountant III' 'Director of Sales' 'Senior Financial Analyst'\n",
      " 'Registered Nurse' 'Biostatistician II' 'Computer Systems Analyst II'\n",
      " 'Software Test Engineer II' 'Paralegal' 'VP Sales'\n",
      " 'Chief Design Engineer' 'Office Assistant III'\n",
      " 'Physical Therapy Assistant' 'Help Desk Operator' 'Web Developer II'\n",
      " 'Research Associate' 'Teacher' 'VP Product Management' 'Statistician II'\n",
      " 'Automation Specialist IV' 'Data Coordiator' 'Software Test Engineer III'\n",
      " 'Internal Auditor' 'Analyst Programmer' 'Occupational Therapist'\n",
      " 'Speech Pathologist' 'Quality Control Specialist' 'Civil Engineer'\n",
      " 'Software Engineer III' 'Community Outreach Specialist'\n",
      " 'Safety Technician IV' 'VP Accounting' 'General Manager'\n",
      " 'Nurse Practicioner' 'Automation Specialist II' 'Marketing Assistant'\n",
      " 'Marketing Manager' 'Staff Scientist' 'Assistant Professor'\n",
      " 'Budget/Accounting Analyst IV' 'Associate Professor' 'Graphic Designer'\n",
      " 'Administrative Assistant II' 'Compensation Analyst'\n",
      " 'Systems Administrator III' 'Financial Advisor' 'Chemical Engineer'\n",
      " 'Web Designer I' 'Senior Developer' 'Office Assistant II' 'Recruiter'\n",
      " 'Operator' 'Programmer Analyst III' 'Quality Engineer'\n",
      " 'Environmental Tech' 'Analog Circuit Design manager' 'Cost Accountant'\n",
      " 'Librarian' 'Structural Analysis Engineer' 'Pharmacist'\n",
      " 'Assistant Manager' 'Accountant I' 'Web Designer III' 'Geologist III'\n",
      " 'Software Test Engineer I' 'Structural Engineer' 'Safety Technician II'\n",
      " 'Web Developer III' 'Programmer Analyst II' 'Design Engineer'\n",
      " 'Statistician I' 'VP Marketing' 'Desktop Support Technician' 'Actuary'\n",
      " 'Database Administrator III' 'Electrical Engineer' 'Tax Accountant'\n",
      " 'Clinical Specialist' 'Database Administrator IV'\n",
      " 'Systems Administrator II' 'Account Coordinator' 'Programmer III'\n",
      " 'Administrative Assistant III' 'Nurse' 'Technical Writer'\n",
      " 'Staff Accountant II' 'Dental Hygienist' 'Sales Representative'\n",
      " 'Budget/Accounting Analyst III' 'Computer Systems Analyst IV'\n",
      " 'Geologist I' 'Financial Analyst' 'Accounting Assistant II'\n",
      " 'Senior Sales Associate' 'Database Administrator II' 'Engineer I'\n",
      " 'Budget/Accounting Analyst I' 'Developer IV' 'Database Administrator I'\n",
      " 'Environmental Specialist' 'Computer Systems Analyst I'\n",
      " 'Account Representative IV' 'Statistician IV' 'Human Resources Manager'\n",
      " 'GIS Technical Architect' 'Programmer IV' 'Accounting Assistant IV'\n",
      " 'Software Engineer IV' 'Programmer II' 'Engineer III'\n",
      " 'Software Consultant' 'Biostatistician IV' 'Help Desk Technician'\n",
      " 'Automation Specialist I' 'Developer III' 'Human Resources Assistant I'\n",
      " 'Geologist IV' 'Media Manager II' 'Statistician III' 'Engineer II'\n",
      " 'Health Coach II' 'Developer II' 'Systems Administrator I'\n",
      " 'Web Developer I' 'Software Engineer II' 'Accounting Assistant I'\n",
      " 'Research Assistant II' 'Programmer Analyst IV' 'Health Coach I'\n",
      " 'Accountant II' 'Automation Specialist III' 'Administrative Assistant I'\n",
      " 'Health Coach IV' 'Media Manager III' 'Account Representative III'\n",
      " 'Web Designer IV' 'Budget/Accounting Analyst II' 'Web Developer IV'\n",
      " 'Programmer I' 'Biostatistician III' 'Software Test Engineer IV'\n",
      " 'Research Assistant IV' 'Account Representative I' 'Accountant IV'\n",
      " 'Biostatistician I' 'Human Resources Assistant IV'\n",
      " 'Administrative Assistant IV' 'Office Assistant I'\n",
      " 'Human Resources Assistant II' 'Mechanical Systems Engineer'\n",
      " 'Engineer IV' 'Health Coach III' 'Office Assistant IV'\n",
      " 'Software Engineer I' 'Human Resources Assistant III'\n",
      " 'Staff Accountant I' 'Computer Systems Analyst III' 'Geologist II'\n",
      " 'Web Designer II' 'Staff Accountant IV' 'Account Representative II'\n",
      " 'Programmer Analyst I' 'Systems Administrator IV'\n",
      " 'Research Assistant III']\n",
      "\n",
      "*******\n",
      "\n",
      "job_industry_category\n",
      "['Health' 'Financial Services' 'Property' 'IT' 'Manufacturing' 'Retail'\n",
      " 'Argiculture' 'Telecommunications' 'Entertainment']\n",
      "\n",
      "*******\n",
      "\n",
      "wealth_segment\n",
      "['Mass Customer' 'Affluent Customer' 'High Net Worth']\n",
      "\n",
      "*******\n",
      "\n",
      "deceased_indicator\n",
      "['N' 'Y']\n",
      "\n",
      "*******\n",
      "\n",
      "default\n",
      "['\"\\'' \"<script>alert('hi')</script>\" datetime.datetime(2018, 2, 1, 0, 0)\n",
      " '() { _; } >_[$($())] { touch /tmp/blns.shellshock2.fail; }' 'NIL'\n",
      " 'ðµ ð ð ð' 'â°â´âµâââ' '(â¯Â°â¡Â°ï¼â¯ï¸µ â»ââ»)' '0/0' 'ð©ð½'\n",
      " 'ÅâÂ´Â®â\\xa0Â¥Â¨ËÃ¸Ïââ' 'nil' -100 'â°â´âµ' 'ð' 1e+96\n",
      " 'ï¾ï½¥â¿ã¾â²(ï½¡ââ¿âï½¡)â±â¿ï½¥ï¾' 'Î©âÃ§ââ«ËÂµâ¤â¥Ã·' 'ÅâÂ´â°ËÃÂ¨ËÃâââ'\n",
      " 'ï¼ï¼ï¼' '../../../../../../../../../../../etc/hosts'\n",
      " '×Ö¸×Ö°×ªÖ¸×testØ§ÙØµÙØ\\xadØ§Øª Ø§ÙØªÙØ\\xadÙÙ' '<>?:\"{}|_+' '\\'\\'\\'\\'\"'\n",
      " \",./;'[]\\\\-=\" '() { 0; }; touch /tmp/blns.shellshock1.fail;'\n",
      " 'ì¬íê³¼íì ì´íì°êµ¬ì' 'testâ\\xa0testâ«'\n",
      " '0ï¸â£ 1ï¸â£ 2ï¸â£ 3ï¸â£ 4ï¸â£ 5ï¸â£ 6ï¸â£ 7ï¸â£ 8ï¸â£ 9ï¸â£ ð' 100\n",
      " '!@#$%^&*()' \"'\"\n",
      " 'Ì¦HÍÌ¬Ì¤ÌÌ¤eÍ ÍÌÌ¥ÌÌ»ÍÌwÌhÌÌ¯ÍoÌÍÌÍÌ±Ì® ÒÌºÌÌÌÍWÌ·Ì¼Ì\\xadaÌºÌªÍiÌ¨ÍÍÌ\\xadÍÌ¯ÌtÌ¶Ì¼Ì®sÌÌÍÍ Ì\\xa0Ì«Ì\\xa0BÌ»ÍÍÍÍÌ³eÌµhÌµÌ¬ÍÌ«ÍiÌÌ¹ÍÌ³Ì³Ì®ÍÌ«nÍdÌ´ÌªÌÌ ÍÌ°ÍÌ©ÍÍÍÌ²TÍ¢ÍÌ¼ÍÌªhÍÍÌ®Ì»eÌ¬ÌÍÌ Ì¤Ì¹ÌWÍÍÍÌÌÍÍaÍÍÍÌ¹Ì¼'\n",
      " '../../../../../../../../../../../etc/passwd%00' 'åè£½æ¼¢èª'\n",
      " '`ââ¬â¹âºï¬ï¬â¡Â°Â·ââÂ±' 'ãã¼ãã£ã¼ã¸è¡ããªãã' 1 -0.5\n",
      " 'ZÌ®ÌÍÌ\\xa0ÍÍAÌ¥ÌÌÍÌ»ÌLÌ£ÍÍÌ¯Ì¹ÌÍGÌ»OÌ\\xadÌÌ®' 'ã' '1;DROP TABLE users'\n",
      " -1 'á' '(ï¾à²¥çà²¥ï¼ï¾ï»¿ â»ââ»' '00ËÆ$-' '1/0' 'ï½ï½¨(Â´âï½â©'\n",
      " \"<svg><script>0<1>alert('XSS')</script>\" 'âââ' 'ã»(ï¿£âï¿£)ã»:*:'\n",
      " ',ãã»:*:ã»ãâ( â» Ï â» )ãã»:*:ã»ãâ' 'â¢' 'ç°ä¸\\xadããã«ããã¦ä¸ãã'\n",
      " '__ï¾(,_,*)' 'Ù¡Ù¢Ù£'\n",
      " 'Ø«Ù ÙÙØ³ Ø³ÙØ·Øª ÙØ¨Ø§ÙØªØ\\xadØ¯ÙØ¯Ø, Ø¬Ø²ÙØ±ØªÙ Ø¨Ø§Ø³ØªØ®Ø¯Ø§Ù Ø£Ù Ø¯ÙÙ. Ø¥Ø° ÙÙØ§Ø Ø§ÙØ³ØªØ§Ø± ÙØªÙØµÙØ¨ ÙØ§Ù. Ø£ÙÙÙ Ø§ÙØ·Ø§ÙÙØ§Ø Ø¨Ø±ÙØ·Ø§ÙÙØ§-ÙØ±ÙØ³Ø§ ÙØ¯ Ø£Ø®Ø°. Ø³ÙÙÙØ§ÙØ Ø¥ØªÙØ§ÙÙØ© Ø¨ÙÙ ÙØ§, ÙØ°ÙØ± Ø'\n",
      " 'ð¾ ð ð ð ð ð ð ð§' \"<img src=x onerror=alert('hi') />\"\n",
      " 'ã½à¼¼àºÙÍàºà¼½ï¾ ã½à¼¼àºÙÍàºà¼½ï¾' 'âð¿ ðªð¿ ðð¿ ðð¿ ðð¿ ðð¿'\n",
      " 'TÌÌ\\xadÌºÌºoÍ Ì·iÌ²Ì¬ÍÌªÍnÌÌÍvÍÌÌÌÌ¦oÌ¶ÌÌ°Ì\\xa0keÍÍÌ®ÌºÌªÌ¹Ì±Ì¤ ÌtÍÌÍÌ³Ì£Ì»ÌªhÌ¼ÍÌ²Ì¦Ì³ÌÌ²eÍÌ£Ì°Ì¦Ì¬Í Ì¢Ì¼Ì»Ì±ÌhÍÍÍÍÌÌ£Ì²iÌ¦Ì²Ì£Ì°Ì¤vÌ»ÍeÌºÌ\\xadÌ³ÌªÌ°-mÌ¢iÍnÌÌºÌÌ²Ì¯Ì°dÌµÌ¼ÌÍÌ©Ì¼ÌÌ³ ÌÌ¥Ì±Ì³Ì\\xadrÌÌÌeÍpÍ\\xa0rÌ¼ÌÌ»Ì\\xadÌeÍÌºÌ\\xa0Ì£sÌ'\n",
      " 'ÃÃÃÃËÃÃï£¿ÃÃÃâ' '(ï½¡â â âï½¡)' 'é¨è½æ\\xa0¼'\n",
      " \"ËÉnbá´lÉ ÉuÆÉÉ¯ ÇÉ¹olop ÊÇ ÇÉ¹oqÉl Ên Êunpá´pá´Éuá´ É¹odÉ¯ÇÊ poÉ¯sná´Ç op pÇs 'Êá´lÇ Æuá´Ésá´dá´pÉ É¹nÊÇÊÉÇsuoÉ 'ÊÇÉ¯É Êá´s É¹olop É¯nsdá´ É¯ÇÉ¹oË¥\"\n",
      " 'á\\xa0'\n",
      " '×Ö¼Ö°×¨Öµ××©×Ö´××ª, ×Ö¼Ö¸×¨Ö¸× ×Ö±×Ö¹×Ö´××, ×Öµ×ª ×Ö·×©Ö¼×Ö¸×Ö·×Ö´×, ×Ö°×Öµ×ª ×Ö¸×Ö¸×¨Ö¶×¥'\n",
      " 'Â¡â¢Â£Â¢âÂ§Â¶â¢ÂªÂºââ\\xa0' '/dev/null; touch /tmp/blns.fail ; echo'\n",
      " \"1'; DROP TABLE users--\" 'ð¾ ð ð ð ð ð ð ð'\n",
      " 'Ì¡ÍÍÌIÍÌÌÌ¦nÍÍÍvÌ®Ì«okÌ²Ì«ÌÍiÌÍÌ\\xadÌ¹Ì\\xa0ÌnÌ¡Ì»Ì®Ì£ÌºgÌ²ÍÍÌ\\xadÍÌ¬Í Ì°tÍÌ¦hÌÌ²eÌ¢Ì¤ ÍÌ¬Ì²ÍfÌ´ÌÍÌ£eÍÍeÌ£Ì¥Ì©lÍÍÍiÍ\\xa0ÍÍÌ¦nÍÍÌÍÌ³Ì®gÍ Ì¨oÍ¡ÍÌªfÌÌ£Ì¬ ÌÌÍÌÍÌ®cÒÍÌ«ÍÍÍÍÍhÌµÌ¤Ì£ÍÍaÍÌÌ¼ÍÍoÌ¼Ì£Ì¥sÍ¢Ì±ÍÌºÌÌ¦Ì».ÌÌ'\n",
      " 'â' 'Â¸ËÃâÄ±ËÃÂ¯ËÂ¿' 'ì¸ëë°í\\xa0ë¥´'\n",
      " 'ÌÌºÍÌ¹Ì¯ÍTÌ±Ì¤ÍÌ¥ÍÍhÍÌ²eÍÍÌ¼ÌÌÌ¼Ì£Í ÍÌÌ±Ì\\xa0ÍÍÍNÍ\\xa0ÍeÌÌ±zÌÌÌÌºÍpÌ¤ÌºÌ¹ÍÌ¯ÍeÍÌ\\xa0Ì»Ì\\xa0rÌ¨Ì¤ÍÌºÌÍÌÌdÍÌ\\xa0ÌÌ\\xadÌ¬ÌiÌ¦ÍÌ©ÍÍÌ¤aÌ\\xa0ÌÌ¬ÍÌnÍÍ Ì»ÌÌ°ÍÍhÌµÍiÌ³ÌvÌ¢ÍeÍÌ\\xadÍ-ÒÌ\\xadÌ©Ì¼ÍmÌ¤Ì\\xadÌ«iÍÍÌÌ¦nÌÍdÌ£Ì ÍÌ¯Ì²ÍoÌ¨ÌÌ¯Ì°Ì²'\n",
      " 0 'â©testâ©' 'â£' 'Ã¥ÃâÆÂ©ËâËÂ¬â¦Ã¦' 'ç¤¾æç§å\\xad¸é¢èªå\\xad¸ç\\xa0ç©¶æ'\n",
      " 'âªâªtestâª' 'ï»¿' 'â¤ï¸ ð ð ð ð ð ð ð ð ð ð ð ð ð ð' 'â«testâ«'\n",
      " 'â¦testâ§' '\\'\"\\'\\'\\'\\'\"' 'â¡'\n",
      " 'ð\\xa0ð\\xa0±ð\\xa0¹ð\\xa0±ð\\xa0±¸ð\\xa0²ð\\xa0³']\n",
      "\n",
      "*******\n",
      "\n",
      "owns_car\n",
      "['Yes' 'No']\n",
      "\n",
      "*******\n",
      "\n"
     ]
    }
   ],
   "source": [
    "#checking for consistency of the values in each categorical column in the data\n",
    "\n",
    "for col in cat_col:\n",
    "    print(col)\n",
    "    print(Customer_demographic[col].unique())\n",
    "    print()\n",
    "    print('*******')\n",
    "    print()"
   ]
  },
  {
   "cell_type": "markdown",
   "metadata": {},
   "source": [
    "IT seems that there are repeated values in **Gender** column and  inconsistent values in **default** column"
   ]
  },
  {
   "cell_type": "code",
   "execution_count": 32,
   "metadata": {},
   "outputs": [],
   "source": [
    "# Ammending values in gender column\n",
    "Customer_demographic.replace({'gender':{'F':'Female','Femal':'Female','M':'Male'}},inplace=True)"
   ]
  },
  {
   "cell_type": "code",
   "execution_count": 33,
   "metadata": {},
   "outputs": [],
   "source": [
    "# removing U value from gender column\n",
    "Customer_demographic=Customer_demographic[Customer_demographic.gender!='U']"
   ]
  },
  {
   "cell_type": "code",
   "execution_count": 34,
   "metadata": {},
   "outputs": [],
   "source": [
    "# drop default columns\n",
    "Customer_demographic.drop('default',axis=1,inplace=True)"
   ]
  },
  {
   "cell_type": "markdown",
   "metadata": {},
   "source": [
    "we will create features engineering for some columns\n",
    "\n",
    "1. Changing DOB column into Age column\n",
    "2. Dropping DOB after conversion"
   ]
  },
  {
   "cell_type": "code",
   "execution_count": 35,
   "metadata": {},
   "outputs": [],
   "source": [
    "# This function converts given date to age\n",
    "def from_dob_to_age(born):\n",
    "    today = dt.date.today()\n",
    "    return today.year - born.year - ((today.month, today.day) < (born.month, born.day))"
   ]
  },
  {
   "cell_type": "code",
   "execution_count": 36,
   "metadata": {},
   "outputs": [],
   "source": [
    "#applying the function on the DOB column\n",
    "Customer_demographic['Age']=Customer_demographic['DOB'].apply(lambda x: from_dob_to_age(x))"
   ]
  },
  {
   "cell_type": "code",
   "execution_count": 37,
   "metadata": {},
   "outputs": [],
   "source": [
    "# dropping DOB column\n",
    "Customer_demographic.drop('DOB',axis=1,inplace=True)"
   ]
  },
  {
   "cell_type": "code",
   "execution_count": 38,
   "metadata": {},
   "outputs": [
    {
     "name": "stdout",
     "output_type": "stream",
     "text": [
      "<class 'pandas.core.frame.DataFrame'>\n",
      "Int64Index: 3912 entries, 1 to 4000\n",
      "Data columns (total 12 columns):\n",
      " #   Column                               Non-Null Count  Dtype  \n",
      "---  ------                               --------------  -----  \n",
      " 0   customer_id                          3912 non-null   object \n",
      " 1   first_name                           3912 non-null   object \n",
      " 2   last_name                            3912 non-null   object \n",
      " 3   gender                               3912 non-null   object \n",
      " 4   past_3_years_bike_related_purchases  3912 non-null   int64  \n",
      " 5   job_title                            3912 non-null   object \n",
      " 6   job_industry_category                3912 non-null   object \n",
      " 7   wealth_segment                       3912 non-null   object \n",
      " 8   deceased_indicator                   3912 non-null   object \n",
      " 9   owns_car                             3912 non-null   object \n",
      " 10  tenure                               3912 non-null   float64\n",
      " 11  Age                                  3912 non-null   int64  \n",
      "dtypes: float64(1), int64(2), object(9)\n",
      "memory usage: 397.3+ KB\n"
     ]
    }
   ],
   "source": [
    "Customer_demographic.info()"
   ]
  },
  {
   "cell_type": "code",
   "execution_count": 39,
   "metadata": {
    "scrolled": true
   },
   "outputs": [
    {
     "data": {
      "text/html": [
       "<div>\n",
       "<style scoped>\n",
       "    .dataframe tbody tr th:only-of-type {\n",
       "        vertical-align: middle;\n",
       "    }\n",
       "\n",
       "    .dataframe tbody tr th {\n",
       "        vertical-align: top;\n",
       "    }\n",
       "\n",
       "    .dataframe thead th {\n",
       "        text-align: right;\n",
       "    }\n",
       "</style>\n",
       "<table border=\"1\" class=\"dataframe\">\n",
       "  <thead>\n",
       "    <tr style=\"text-align: right;\">\n",
       "      <th></th>\n",
       "      <th>customer_id</th>\n",
       "      <th>first_name</th>\n",
       "      <th>last_name</th>\n",
       "      <th>gender</th>\n",
       "      <th>past_3_years_bike_related_purchases</th>\n",
       "      <th>job_title</th>\n",
       "      <th>job_industry_category</th>\n",
       "      <th>wealth_segment</th>\n",
       "      <th>deceased_indicator</th>\n",
       "      <th>owns_car</th>\n",
       "      <th>tenure</th>\n",
       "      <th>Age</th>\n",
       "    </tr>\n",
       "  </thead>\n",
       "  <tbody>\n",
       "    <tr>\n",
       "      <th>1</th>\n",
       "      <td>1</td>\n",
       "      <td>Laraine</td>\n",
       "      <td>Medendorp</td>\n",
       "      <td>Female</td>\n",
       "      <td>93</td>\n",
       "      <td>Executive Secretary</td>\n",
       "      <td>Health</td>\n",
       "      <td>Mass Customer</td>\n",
       "      <td>N</td>\n",
       "      <td>Yes</td>\n",
       "      <td>11.0</td>\n",
       "      <td>67</td>\n",
       "    </tr>\n",
       "    <tr>\n",
       "      <th>2</th>\n",
       "      <td>2</td>\n",
       "      <td>Eli</td>\n",
       "      <td>Bockman</td>\n",
       "      <td>Male</td>\n",
       "      <td>81</td>\n",
       "      <td>Administrative Officer</td>\n",
       "      <td>Financial Services</td>\n",
       "      <td>Mass Customer</td>\n",
       "      <td>N</td>\n",
       "      <td>Yes</td>\n",
       "      <td>16.0</td>\n",
       "      <td>40</td>\n",
       "    </tr>\n",
       "  </tbody>\n",
       "</table>\n",
       "</div>"
      ],
      "text/plain": [
       "  customer_id first_name  last_name  gender  past_3_years_bike_related_purchases               job_title job_industry_category wealth_segment deceased_indicator owns_car  tenure  Age\n",
       "1           1    Laraine  Medendorp  Female                                   93     Executive Secretary                Health  Mass Customer                  N      Yes    11.0   67\n",
       "2           2        Eli    Bockman    Male                                   81  Administrative Officer    Financial Services  Mass Customer                  N      Yes    16.0   40"
      ]
     },
     "execution_count": 39,
     "metadata": {},
     "output_type": "execute_result"
    }
   ],
   "source": [
    "#checking results\n",
    "Customer_demographic.head(2)"
   ]
  },
  {
   "cell_type": "markdown",
   "metadata": {},
   "source": [
    "**Customer demographic dataset is clean and ready for analysis**"
   ]
  },
  {
   "cell_type": "markdown",
   "metadata": {},
   "source": [
    "### Customer address dataset"
   ]
  },
  {
   "cell_type": "code",
   "execution_count": 40,
   "metadata": {},
   "outputs": [],
   "source": [
    "# Importing dataset\n",
    "Customer_address=pd.read_excel('Customer address.xlsx')"
   ]
  },
  {
   "cell_type": "code",
   "execution_count": 41,
   "metadata": {},
   "outputs": [
    {
     "data": {
      "text/html": [
       "<div>\n",
       "<style scoped>\n",
       "    .dataframe tbody tr th:only-of-type {\n",
       "        vertical-align: middle;\n",
       "    }\n",
       "\n",
       "    .dataframe tbody tr th {\n",
       "        vertical-align: top;\n",
       "    }\n",
       "\n",
       "    .dataframe thead th {\n",
       "        text-align: right;\n",
       "    }\n",
       "</style>\n",
       "<table border=\"1\" class=\"dataframe\">\n",
       "  <thead>\n",
       "    <tr style=\"text-align: right;\">\n",
       "      <th></th>\n",
       "      <th>Note: The data and information in this document is reflective of a hypothetical situation and client. This document is to be used for KPMG Virtual Internship purposes only.</th>\n",
       "      <th>Unnamed: 1</th>\n",
       "      <th>Unnamed: 2</th>\n",
       "      <th>Unnamed: 3</th>\n",
       "      <th>Unnamed: 4</th>\n",
       "      <th>Unnamed: 5</th>\n",
       "    </tr>\n",
       "  </thead>\n",
       "  <tbody>\n",
       "    <tr>\n",
       "      <th>0</th>\n",
       "      <td>customer_id</td>\n",
       "      <td>address</td>\n",
       "      <td>postcode</td>\n",
       "      <td>state</td>\n",
       "      <td>country</td>\n",
       "      <td>property_valuation</td>\n",
       "    </tr>\n",
       "    <tr>\n",
       "      <th>1</th>\n",
       "      <td>1</td>\n",
       "      <td>060 Morning Avenue</td>\n",
       "      <td>2016</td>\n",
       "      <td>New South Wales</td>\n",
       "      <td>Australia</td>\n",
       "      <td>10</td>\n",
       "    </tr>\n",
       "  </tbody>\n",
       "</table>\n",
       "</div>"
      ],
      "text/plain": [
       "  Note: The data and information in this document is reflective of a hypothetical situation and client. This document is to be used for KPMG Virtual Internship purposes only.           Unnamed: 1 Unnamed: 2       Unnamed: 3 Unnamed: 4          Unnamed: 5\n",
       "0                                        customer_id                                                                                                                                        address   postcode            state    country  property_valuation\n",
       "1                                                  1                                                                                                                             060 Morning Avenue       2016  New South Wales  Australia                  10"
      ]
     },
     "execution_count": 41,
     "metadata": {},
     "output_type": "execute_result"
    }
   ],
   "source": [
    "#checking first rows \n",
    "Customer_address.head(2)"
   ]
  },
  {
   "cell_type": "code",
   "execution_count": 42,
   "metadata": {},
   "outputs": [],
   "source": [
    "#using the function to remove unnamed row and adjust first row to header\n",
    "titlehead(Customer_address)"
   ]
  },
  {
   "cell_type": "code",
   "execution_count": 43,
   "metadata": {},
   "outputs": [
    {
     "data": {
      "text/html": [
       "<div>\n",
       "<style scoped>\n",
       "    .dataframe tbody tr th:only-of-type {\n",
       "        vertical-align: middle;\n",
       "    }\n",
       "\n",
       "    .dataframe tbody tr th {\n",
       "        vertical-align: top;\n",
       "    }\n",
       "\n",
       "    .dataframe thead th {\n",
       "        text-align: right;\n",
       "    }\n",
       "</style>\n",
       "<table border=\"1\" class=\"dataframe\">\n",
       "  <thead>\n",
       "    <tr style=\"text-align: right;\">\n",
       "      <th></th>\n",
       "      <th>customer_id</th>\n",
       "      <th>address</th>\n",
       "      <th>postcode</th>\n",
       "      <th>state</th>\n",
       "      <th>country</th>\n",
       "      <th>property_valuation</th>\n",
       "    </tr>\n",
       "  </thead>\n",
       "  <tbody>\n",
       "    <tr>\n",
       "      <th>1</th>\n",
       "      <td>1</td>\n",
       "      <td>060 Morning Avenue</td>\n",
       "      <td>2016</td>\n",
       "      <td>New South Wales</td>\n",
       "      <td>Australia</td>\n",
       "      <td>10</td>\n",
       "    </tr>\n",
       "    <tr>\n",
       "      <th>2</th>\n",
       "      <td>2</td>\n",
       "      <td>6 Meadow Vale Court</td>\n",
       "      <td>2153</td>\n",
       "      <td>New South Wales</td>\n",
       "      <td>Australia</td>\n",
       "      <td>10</td>\n",
       "    </tr>\n",
       "  </tbody>\n",
       "</table>\n",
       "</div>"
      ],
      "text/plain": [
       "  customer_id              address postcode            state    country property_valuation\n",
       "1           1   060 Morning Avenue     2016  New South Wales  Australia                 10\n",
       "2           2  6 Meadow Vale Court     2153  New South Wales  Australia                 10"
      ]
     },
     "execution_count": 43,
     "metadata": {},
     "output_type": "execute_result"
    }
   ],
   "source": [
    "#checking for results\n",
    "Customer_address.head(2)"
   ]
  },
  {
   "cell_type": "code",
   "execution_count": 44,
   "metadata": {},
   "outputs": [
    {
     "name": "stdout",
     "output_type": "stream",
     "text": [
      "<class 'pandas.core.frame.DataFrame'>\n",
      "Int64Index: 3999 entries, 1 to 3999\n",
      "Data columns (total 6 columns):\n",
      " #   Column              Non-Null Count  Dtype \n",
      "---  ------              --------------  ----- \n",
      " 0   customer_id         3999 non-null   object\n",
      " 1   address             3999 non-null   object\n",
      " 2   postcode            3999 non-null   object\n",
      " 3   state               3999 non-null   object\n",
      " 4   country             3999 non-null   object\n",
      " 5   property_valuation  3999 non-null   object\n",
      "dtypes: object(6)\n",
      "memory usage: 218.7+ KB\n"
     ]
    }
   ],
   "source": [
    "#checking dataset info\n",
    "Customer_address.info()"
   ]
  },
  {
   "cell_type": "code",
   "execution_count": 45,
   "metadata": {},
   "outputs": [
    {
     "data": {
      "text/html": [
       "<div>\n",
       "<style scoped>\n",
       "    .dataframe tbody tr th:only-of-type {\n",
       "        vertical-align: middle;\n",
       "    }\n",
       "\n",
       "    .dataframe tbody tr th {\n",
       "        vertical-align: top;\n",
       "    }\n",
       "\n",
       "    .dataframe thead th {\n",
       "        text-align: right;\n",
       "    }\n",
       "</style>\n",
       "<table border=\"1\" class=\"dataframe\">\n",
       "  <thead>\n",
       "    <tr style=\"text-align: right;\">\n",
       "      <th></th>\n",
       "      <th>customer_id</th>\n",
       "      <th>address</th>\n",
       "      <th>postcode</th>\n",
       "      <th>state</th>\n",
       "      <th>country</th>\n",
       "      <th>property_valuation</th>\n",
       "    </tr>\n",
       "  </thead>\n",
       "  <tbody>\n",
       "  </tbody>\n",
       "</table>\n",
       "</div>"
      ],
      "text/plain": [
       "Empty DataFrame\n",
       "Columns: [customer_id, address, postcode, state, country, property_valuation]\n",
       "Index: []"
      ]
     },
     "execution_count": 45,
     "metadata": {},
     "output_type": "execute_result"
    }
   ],
   "source": [
    "#checking for duplicated rows\n",
    "Customer_address[Customer_address.duplicated()]"
   ]
  },
  {
   "cell_type": "markdown",
   "metadata": {},
   "source": [
    "There are no duplicated rows in the dataset"
   ]
  },
  {
   "cell_type": "code",
   "execution_count": 46,
   "metadata": {},
   "outputs": [
    {
     "data": {
      "text/plain": [
       "['customer_id',\n",
       " 'address',\n",
       " 'postcode',\n",
       " 'state',\n",
       " 'country',\n",
       " 'property_valuation']"
      ]
     },
     "execution_count": 46,
     "metadata": {},
     "output_type": "execute_result"
    }
   ],
   "source": [
    "# appending the categorical columns into a list\n",
    "cat_col=[]\n",
    "for x in Customer_address.dtypes.index:\n",
    "    if Customer_address.dtypes[x]=='object':\n",
    "        cat_col.append(x)\n",
    "cat_col"
   ]
  },
  {
   "cell_type": "code",
   "execution_count": 47,
   "metadata": {},
   "outputs": [
    {
     "name": "stdout",
     "output_type": "stream",
     "text": [
      "customer_id\n",
      "[1 2 4 ... 4001 4002 4003]\n",
      "\n",
      "*******\n",
      "\n",
      "address\n",
      "['060 Morning Avenue' '6 Meadow Vale Court' '0 Holy Cross Court' ...\n",
      " '87 Crescent Oaks Alley' '8194 Lien Street' '320 Acker Drive']\n",
      "\n",
      "*******\n",
      "\n",
      "postcode\n",
      "[2016 2153 4211 2448 3216 2210 2650 2023 3044 4557 3799 2760 2428 3331\n",
      " 3058 2135 2233 2444 4413 4740 3218 4868 4116 2519 2756 2170 4005 4127\n",
      " 2535 4726 4805 2212 2207 3350 3931 4018 4670 2480 3212 2322 3198 2047\n",
      " 4503 2145 4350 2142 2029 2127 4280 2166 2046 2026 2765 2749 2745 3752\n",
      " 2217 2230 3046 3183 2070 2213 4208 2774 4133 4213 4170 2073 3561 2330\n",
      " 3977 2204 2086 2226 2075 2038 2069 2100 3133 3070 2777 2125 2766 2209\n",
      " 2160 2065 2150 2168 4171 2155 2517 2096 2750 2093 3204 4300 3844 4226\n",
      " 3192 2485 2097 4817 2516 3074 4508 4405 2452 2205 4132 4744 2158 3201\n",
      " 4178 2112 2033 4401 3186 4017 2315 2285 2219 4509 2759 2747 2227 2025\n",
      " 3191 3025 2263 2154 2119 3016 4113 2032 4352 3020 2116 3057 2099 3749\n",
      " 2148 3145 2021 2333 2783 2280 4120 3638 2074 2880 2430 4560 2088 2220\n",
      " 3031 2250 2261 3196 4680 3143 2063 3021 2138 4811 2085 3084 3170 2066\n",
      " 4078 2222 3152 2159 4655 4220 4012 2015 2776 3011 2761 2502 2110 2566\n",
      " 2506 2508 2036 2018 3666 4514 2525 4152 2200 3023 3500 2283 2102 2040\n",
      " 2304 2340 3580 3355 2287 2324 2323 2320 2346 2031 2064 2176 3195 2010\n",
      " 2768 2752 3802 3071 4735 3081 3205 2165 3125 4214 2030 2767 2798 2117\n",
      " 4551 3064 3810 4151 2830 3030 4812 2141 3029 2173 3199 4506 2035 3340\n",
      " 3182 2450 2216 3796 3197 2232 2365 4701 4210 2223 4122 2515 3437 3338\n",
      " 2203 3356 3223 3032 3105 3101 2763 2089 2126 2147 2251 3127 3087 3131\n",
      " 3134 2193 4055 2530 4217 4020 2179 3130 4570 3215 3165 3936 2265 3034\n",
      " 2062 2162 3033 2144 3805 2642 3228 3444 2076 4124 4305 2579 2835 3337\n",
      " 2536 2770 2646 4558 2211 2570 4552 3082 2360 4223 4370 3150 2549 3040\n",
      " 4209 4173 2068 3806 2259 2260 4074 4215 3008 2748 2567 3015 4221 3121\n",
      " 4870 2118 2050 2120 3812 3111 3012 2197 3162 2037 3141 3178 3564 3550\n",
      " 3775 3004 3185 2447 3910 3621 4702 2133 3075 3911 2487 4123 2151 3156\n",
      " 3126 2027 3124 2564 2049 3690 3282 2576 3108 4165 2218 2190 2337 2307\n",
      " 2121 2716 3168 3076 2478 2560 2087 4505 2630 2225 3013 3136 2111 2106\n",
      " 3930 2291 2305 2300 4179 2539 3207 4340 3137 3068 4580 2041 4504 2306\n",
      " 4075 3975 4114 4341 4022 4820 3028 4035 2326 3429 4218 2380 3171 2565\n",
      " 3850 3807 4800 2577 2199 2134 4053 2800 2048 2194 2557 2548 2262 2463\n",
      " 2481 2072 3155 3095 4207 4110 2017 2769 4562 2571 3480 3551 2753 3093\n",
      " 4615 3174 2192 2290 3073 4810 4121 2229 4118 2594 3750 4019 2540 2293\n",
      " 2143 3630 2164 4869 2137 2354 4814 2282 2292 2171 2077 4873 4006 2754\n",
      " 2152 2067 2122 3976 2000 3175 2156 2228 3187 2680 2527 2163 2336 4415\n",
      " 3139 3147 3623 4356 2034 2196 2177 2234 2537 4720 3765 2486 4511 2795\n",
      " 3188 3730 3060 4131 2518 3158 2477 2195 2575 3400 3037 4507 2113 2443\n",
      " 3177 2641 4212 3241 3428 4227 4034 2558 2460 3173 2289 4500 4825 4161\n",
      " 3757 2871 2146 4380 3024 3934 3109 2136 2484 3225 4068 2214 3809 2454\n",
      " 4556 4573 2131 3184 2619 3138 3441 2101 4510 2647 2731 3284 2573 2206\n",
      " 4815 2526 4502 2710 2090 3038 3142 3442 4064 2529 3039 2061 3644 2104\n",
      " 2044 3043 2873 2541 2321 2079 3072 2007 2620 2231 2580 2020 2852 3677\n",
      " 4818 4519 4806 4610 4512 4306 4304 4301 4205 4051 4130 4115 4164 4128\n",
      " 3940 3939 3840 3804 2582 3747 3620 3151 3380 3280 3224 3222 3226 3190\n",
      " 3169 3163 3161 3791 4119 3140 3818 3106 3099 3754 3756 3061 3048 3036\n",
      " 3107 3022 3049 2870 2762 2794 2773 2640 2439 2528 2440 2325 2161 2848\n",
      " 4878 2775 2224 3219 2441 4877 3264 2681 3018 2043 2107 4567 4011 2221\n",
      " 2028 3941 3146 3585 4105 2094 2284 3808 3149 3114 3352 3129 4154 2114\n",
      " 4721 2011 4157 4799 2095 3103 4224 4344 2009 3144 3181 2665 2474 3166\n",
      " 2820 4059 4160 3189 4030 2042 4032 4103 2868 2358 2449 2299 4014 3056\n",
      " 2281 4007 2318 3821 4109 4216 2470 2563 2264 2445 4060 3214 4077 2327\n",
      " 4104 3172 2505 2115 2469 2705 3088 3966 3912 2446 2810 4061 3083 3915\n",
      " 4153 2267 3458 4421 3505 3006 4037 3918 2335 3079 2400 3148 2092 2714\n",
      " 3555 2008 3631 4228 4101 2022 4568 3115 4343 3116 2208 4125 4070 3194\n",
      " 2533 2758 4159 4879 2500 2298 2178 3240 2671 4455 4650 3160 3250 3342\n",
      " 3523 2350 2785 3995 3351 3000 2462 3041 3260 2534 4565 3618 2780 2167\n",
      " 3279 4106 4700 2799 4564 4860 3922 2256 4031 2779 4660 4073 3067 2843\n",
      " 3027 3066 2572 2128 4054 4069 2343 3377 3065 2295 4270 2316 3179 3933\n",
      " 4883 2081 2471 3053 4285 2546 4275 3132 3042 3085 2071 2821 4390 3793\n",
      " 3128 2869 3616 4750 3059 3153 2130 3213 3862 3610 4102 2060 3786 2019\n",
      " 2191 2713 3094 3122 2850 4272 3051 3634 3803 4515 2700 3123 2294 3978\n",
      " 3305 2198 2778 4730 4155 4000 4225 3556 4575 4715 2429 4555 2132 2045\n",
      " 2024 4076 3321 3193 2390 2806 2257 4172 3078 3104 3860 2658 3052 4163\n",
      " 2590 2550 2877 4311 3089]\n",
      "\n",
      "*******\n",
      "\n",
      "state\n",
      "['New South Wales' 'QLD' 'VIC' 'NSW' 'Victoria']\n",
      "\n",
      "*******\n",
      "\n",
      "country\n",
      "['Australia']\n",
      "\n",
      "*******\n",
      "\n",
      "property_valuation\n",
      "[10 9 4 12 8 6 7 3 5 11 1 2]\n",
      "\n",
      "*******\n",
      "\n"
     ]
    }
   ],
   "source": [
    "#checking for values inconsistencies in the categorical columns\n",
    "\n",
    "for col in cat_col:\n",
    "    print(col)\n",
    "    print(Customer_address[col].unique())\n",
    "    print()\n",
    "    print('*******')\n",
    "    print()"
   ]
  },
  {
   "cell_type": "markdown",
   "metadata": {},
   "source": [
    "**Country:** Country column represents one value only which is Australia so i will remove it since it will not be helpful in my analysis"
   ]
  },
  {
   "cell_type": "markdown",
   "metadata": {},
   "source": [
    "General data information states that data types are consistent and there are no null values"
   ]
  },
  {
   "cell_type": "markdown",
   "metadata": {},
   "source": [
    "**Customer address dataset is clean and ready for analysis**"
   ]
  },
  {
   "cell_type": "markdown",
   "metadata": {},
   "source": [
    "Since the three dataset are related to each other in which the first dataset is the transactions made by customers and the second dataset is the demographics of customers who made the transactions and third dataset is the addresses of these customers , we can conduct an inner join between them throught the customer id primary key column in the first dataset and customer id foregin keys columns in demographics and addresses datasets."
   ]
  },
  {
   "cell_type": "code",
   "execution_count": 48,
   "metadata": {},
   "outputs": [
    {
     "data": {
      "text/html": [
       "<div>\n",
       "<style scoped>\n",
       "    .dataframe tbody tr th:only-of-type {\n",
       "        vertical-align: middle;\n",
       "    }\n",
       "\n",
       "    .dataframe tbody tr th {\n",
       "        vertical-align: top;\n",
       "    }\n",
       "\n",
       "    .dataframe thead th {\n",
       "        text-align: right;\n",
       "    }\n",
       "</style>\n",
       "<table border=\"1\" class=\"dataframe\">\n",
       "  <thead>\n",
       "    <tr style=\"text-align: right;\">\n",
       "      <th></th>\n",
       "      <th>transaction_id</th>\n",
       "      <th>product_id</th>\n",
       "      <th>customer_id</th>\n",
       "      <th>transaction_date</th>\n",
       "      <th>online_order</th>\n",
       "      <th>order_status</th>\n",
       "      <th>brand</th>\n",
       "      <th>product_line</th>\n",
       "      <th>product_class</th>\n",
       "      <th>product_size</th>\n",
       "      <th>list_price</th>\n",
       "      <th>standard_cost</th>\n",
       "      <th>product_first_sold_date</th>\n",
       "      <th>Transaction_year</th>\n",
       "      <th>Transaction_month</th>\n",
       "      <th>Transaction_day</th>\n",
       "      <th>day_of_the_week</th>\n",
       "      <th>first_name</th>\n",
       "      <th>last_name</th>\n",
       "      <th>gender</th>\n",
       "      <th>past_3_years_bike_related_purchases</th>\n",
       "      <th>job_title</th>\n",
       "      <th>job_industry_category</th>\n",
       "      <th>wealth_segment</th>\n",
       "      <th>deceased_indicator</th>\n",
       "      <th>owns_car</th>\n",
       "      <th>tenure</th>\n",
       "      <th>Age</th>\n",
       "    </tr>\n",
       "  </thead>\n",
       "  <tbody>\n",
       "    <tr>\n",
       "      <th>0</th>\n",
       "      <td>1</td>\n",
       "      <td>2</td>\n",
       "      <td>2950</td>\n",
       "      <td>2017-02-25</td>\n",
       "      <td>False</td>\n",
       "      <td>Approved</td>\n",
       "      <td>Solex</td>\n",
       "      <td>Standard</td>\n",
       "      <td>medium</td>\n",
       "      <td>medium</td>\n",
       "      <td>71.49</td>\n",
       "      <td>53.62</td>\n",
       "      <td>2012-12-02</td>\n",
       "      <td>2017</td>\n",
       "      <td>February</td>\n",
       "      <td>25</td>\n",
       "      <td>Saturday</td>\n",
       "      <td>Kristos</td>\n",
       "      <td>Anthony</td>\n",
       "      <td>Male</td>\n",
       "      <td>19</td>\n",
       "      <td>Software Engineer I</td>\n",
       "      <td>Financial Services</td>\n",
       "      <td>Mass Customer</td>\n",
       "      <td>N</td>\n",
       "      <td>Yes</td>\n",
       "      <td>10.0</td>\n",
       "      <td>66</td>\n",
       "    </tr>\n",
       "    <tr>\n",
       "      <th>1</th>\n",
       "      <td>11065</td>\n",
       "      <td>1</td>\n",
       "      <td>2950</td>\n",
       "      <td>2017-10-16</td>\n",
       "      <td>False</td>\n",
       "      <td>Approved</td>\n",
       "      <td>Giant Bicycles</td>\n",
       "      <td>Standard</td>\n",
       "      <td>medium</td>\n",
       "      <td>medium</td>\n",
       "      <td>1403.50</td>\n",
       "      <td>954.82</td>\n",
       "      <td>2003-02-07</td>\n",
       "      <td>2017</td>\n",
       "      <td>October</td>\n",
       "      <td>16</td>\n",
       "      <td>Monday</td>\n",
       "      <td>Kristos</td>\n",
       "      <td>Anthony</td>\n",
       "      <td>Male</td>\n",
       "      <td>19</td>\n",
       "      <td>Software Engineer I</td>\n",
       "      <td>Financial Services</td>\n",
       "      <td>Mass Customer</td>\n",
       "      <td>N</td>\n",
       "      <td>Yes</td>\n",
       "      <td>10.0</td>\n",
       "      <td>66</td>\n",
       "    </tr>\n",
       "  </tbody>\n",
       "</table>\n",
       "</div>"
      ],
      "text/plain": [
       "  transaction_id product_id customer_id transaction_date  online_order order_status           brand product_line product_class product_size  list_price  standard_cost product_first_sold_date Transaction_year Transaction_month Transaction_day day_of_the_week first_name last_name gender  past_3_years_bike_related_purchases            job_title job_industry_category wealth_segment deceased_indicator owns_car  tenure  Age\n",
       "0              1          2        2950       2017-02-25         False     Approved           Solex     Standard        medium       medium       71.49          53.62              2012-12-02             2017          February              25        Saturday    Kristos   Anthony   Male                                   19  Software Engineer I    Financial Services  Mass Customer                  N      Yes    10.0   66\n",
       "1          11065          1        2950       2017-10-16         False     Approved  Giant Bicycles     Standard        medium       medium     1403.50         954.82              2003-02-07             2017           October              16          Monday    Kristos   Anthony   Male                                   19  Software Engineer I    Financial Services  Mass Customer                  N      Yes    10.0   66"
      ]
     },
     "execution_count": 48,
     "metadata": {},
     "output_type": "execute_result"
    }
   ],
   "source": [
    "# joining Transactions with customer demographics datasets\n",
    "Transactions_demographics=Transactions.merge(Customer_demographic,on='customer_id',how='inner')\n",
    "Transactions_demographics.head(2)"
   ]
  },
  {
   "cell_type": "code",
   "execution_count": 49,
   "metadata": {},
   "outputs": [],
   "source": [
    "# merging customersdemographics & transactions with addresses dataset into a CTA datasets (Customers,Transcations,Addresses)\n",
    "CTA=Transactions_demographics.merge(Customer_address,on='customer_id',how='inner')"
   ]
  },
  {
   "cell_type": "code",
   "execution_count": 50,
   "metadata": {},
   "outputs": [
    {
     "name": "stdout",
     "output_type": "stream",
     "text": [
      "<class 'pandas.core.frame.DataFrame'>\n",
      "Int64Index: 19327 entries, 0 to 19326\n",
      "Data columns (total 33 columns):\n",
      " #   Column                               Non-Null Count  Dtype         \n",
      "---  ------                               --------------  -----         \n",
      " 0   transaction_id                       19327 non-null  object        \n",
      " 1   product_id                           19327 non-null  object        \n",
      " 2   customer_id                          19327 non-null  object        \n",
      " 3   transaction_date                     19327 non-null  datetime64[ns]\n",
      " 4   online_order                         19327 non-null  bool          \n",
      " 5   order_status                         19327 non-null  object        \n",
      " 6   brand                                19327 non-null  object        \n",
      " 7   product_line                         19327 non-null  object        \n",
      " 8   product_class                        19327 non-null  object        \n",
      " 9   product_size                         19327 non-null  object        \n",
      " 10  list_price                           19327 non-null  float64       \n",
      " 11  standard_cost                        19327 non-null  float64       \n",
      " 12  product_first_sold_date              19327 non-null  datetime64[ns]\n",
      " 13  Transaction_year                     19327 non-null  object        \n",
      " 14  Transaction_month                    19327 non-null  object        \n",
      " 15  Transaction_day                      19327 non-null  object        \n",
      " 16  day_of_the_week                      19327 non-null  object        \n",
      " 17  first_name                           19327 non-null  object        \n",
      " 18  last_name                            19327 non-null  object        \n",
      " 19  gender                               19327 non-null  object        \n",
      " 20  past_3_years_bike_related_purchases  19327 non-null  int64         \n",
      " 21  job_title                            19327 non-null  object        \n",
      " 22  job_industry_category                19327 non-null  object        \n",
      " 23  wealth_segment                       19327 non-null  object        \n",
      " 24  deceased_indicator                   19327 non-null  object        \n",
      " 25  owns_car                             19327 non-null  object        \n",
      " 26  tenure                               19327 non-null  float64       \n",
      " 27  Age                                  19327 non-null  int64         \n",
      " 28  address                              19327 non-null  object        \n",
      " 29  postcode                             19327 non-null  object        \n",
      " 30  state                                19327 non-null  object        \n",
      " 31  country                              19327 non-null  object        \n",
      " 32  property_valuation                   19327 non-null  object        \n",
      "dtypes: bool(1), datetime64[ns](2), float64(3), int64(2), object(25)\n",
      "memory usage: 4.9+ MB\n"
     ]
    }
   ],
   "source": [
    "#checking the final general information of the three datasets together\n",
    "CTA.info()"
   ]
  },
  {
   "cell_type": "code",
   "execution_count": 51,
   "metadata": {
    "scrolled": false
   },
   "outputs": [
    {
     "data": {
      "text/html": [
       "<div>\n",
       "<style scoped>\n",
       "    .dataframe tbody tr th:only-of-type {\n",
       "        vertical-align: middle;\n",
       "    }\n",
       "\n",
       "    .dataframe tbody tr th {\n",
       "        vertical-align: top;\n",
       "    }\n",
       "\n",
       "    .dataframe thead th {\n",
       "        text-align: right;\n",
       "    }\n",
       "</style>\n",
       "<table border=\"1\" class=\"dataframe\">\n",
       "  <thead>\n",
       "    <tr style=\"text-align: right;\">\n",
       "      <th></th>\n",
       "      <th>transaction_id</th>\n",
       "      <th>product_id</th>\n",
       "      <th>customer_id</th>\n",
       "      <th>transaction_date</th>\n",
       "      <th>online_order</th>\n",
       "      <th>order_status</th>\n",
       "      <th>brand</th>\n",
       "      <th>product_line</th>\n",
       "      <th>product_class</th>\n",
       "      <th>product_size</th>\n",
       "      <th>list_price</th>\n",
       "      <th>standard_cost</th>\n",
       "      <th>product_first_sold_date</th>\n",
       "      <th>Transaction_year</th>\n",
       "      <th>Transaction_month</th>\n",
       "      <th>Transaction_day</th>\n",
       "      <th>day_of_the_week</th>\n",
       "      <th>first_name</th>\n",
       "      <th>last_name</th>\n",
       "      <th>gender</th>\n",
       "      <th>past_3_years_bike_related_purchases</th>\n",
       "      <th>job_title</th>\n",
       "      <th>job_industry_category</th>\n",
       "      <th>wealth_segment</th>\n",
       "      <th>deceased_indicator</th>\n",
       "      <th>owns_car</th>\n",
       "      <th>tenure</th>\n",
       "      <th>Age</th>\n",
       "      <th>address</th>\n",
       "      <th>postcode</th>\n",
       "      <th>state</th>\n",
       "      <th>country</th>\n",
       "      <th>property_valuation</th>\n",
       "    </tr>\n",
       "  </thead>\n",
       "  <tbody>\n",
       "    <tr>\n",
       "      <th>0</th>\n",
       "      <td>1</td>\n",
       "      <td>2</td>\n",
       "      <td>2950</td>\n",
       "      <td>2017-02-25</td>\n",
       "      <td>False</td>\n",
       "      <td>Approved</td>\n",
       "      <td>Solex</td>\n",
       "      <td>Standard</td>\n",
       "      <td>medium</td>\n",
       "      <td>medium</td>\n",
       "      <td>71.49</td>\n",
       "      <td>53.62</td>\n",
       "      <td>2012-12-02</td>\n",
       "      <td>2017</td>\n",
       "      <td>February</td>\n",
       "      <td>25</td>\n",
       "      <td>Saturday</td>\n",
       "      <td>Kristos</td>\n",
       "      <td>Anthony</td>\n",
       "      <td>Male</td>\n",
       "      <td>19</td>\n",
       "      <td>Software Engineer I</td>\n",
       "      <td>Financial Services</td>\n",
       "      <td>Mass Customer</td>\n",
       "      <td>N</td>\n",
       "      <td>Yes</td>\n",
       "      <td>10.0</td>\n",
       "      <td>66</td>\n",
       "      <td>984 Hoepker Court</td>\n",
       "      <td>3064</td>\n",
       "      <td>VIC</td>\n",
       "      <td>Australia</td>\n",
       "      <td>6</td>\n",
       "    </tr>\n",
       "    <tr>\n",
       "      <th>1</th>\n",
       "      <td>11065</td>\n",
       "      <td>1</td>\n",
       "      <td>2950</td>\n",
       "      <td>2017-10-16</td>\n",
       "      <td>False</td>\n",
       "      <td>Approved</td>\n",
       "      <td>Giant Bicycles</td>\n",
       "      <td>Standard</td>\n",
       "      <td>medium</td>\n",
       "      <td>medium</td>\n",
       "      <td>1403.50</td>\n",
       "      <td>954.82</td>\n",
       "      <td>2003-02-07</td>\n",
       "      <td>2017</td>\n",
       "      <td>October</td>\n",
       "      <td>16</td>\n",
       "      <td>Monday</td>\n",
       "      <td>Kristos</td>\n",
       "      <td>Anthony</td>\n",
       "      <td>Male</td>\n",
       "      <td>19</td>\n",
       "      <td>Software Engineer I</td>\n",
       "      <td>Financial Services</td>\n",
       "      <td>Mass Customer</td>\n",
       "      <td>N</td>\n",
       "      <td>Yes</td>\n",
       "      <td>10.0</td>\n",
       "      <td>66</td>\n",
       "      <td>984 Hoepker Court</td>\n",
       "      <td>3064</td>\n",
       "      <td>VIC</td>\n",
       "      <td>Australia</td>\n",
       "      <td>6</td>\n",
       "    </tr>\n",
       "  </tbody>\n",
       "</table>\n",
       "</div>"
      ],
      "text/plain": [
       "  transaction_id product_id customer_id transaction_date  online_order order_status           brand product_line product_class product_size  list_price  standard_cost product_first_sold_date Transaction_year Transaction_month Transaction_day day_of_the_week first_name last_name gender  past_3_years_bike_related_purchases            job_title job_industry_category wealth_segment deceased_indicator owns_car  tenure  Age            address postcode state    country property_valuation\n",
       "0              1          2        2950       2017-02-25         False     Approved           Solex     Standard        medium       medium       71.49          53.62              2012-12-02             2017          February              25        Saturday    Kristos   Anthony   Male                                   19  Software Engineer I    Financial Services  Mass Customer                  N      Yes    10.0   66  984 Hoepker Court     3064   VIC  Australia                  6\n",
       "1          11065          1        2950       2017-10-16         False     Approved  Giant Bicycles     Standard        medium       medium     1403.50         954.82              2003-02-07             2017           October              16          Monday    Kristos   Anthony   Male                                   19  Software Engineer I    Financial Services  Mass Customer                  N      Yes    10.0   66  984 Hoepker Court     3064   VIC  Australia                  6"
      ]
     },
     "execution_count": 51,
     "metadata": {},
     "output_type": "execute_result"
    }
   ],
   "source": [
    "#checking final data first rows\n",
    "CTA.head(2)"
   ]
  },
  {
   "cell_type": "markdown",
   "metadata": {},
   "source": [
    "now we will Export data to csv file to use it in our next juyter notebook for phase 2 of the project which is Exploratory data analysis"
   ]
  },
  {
   "cell_type": "code",
   "execution_count": 52,
   "metadata": {},
   "outputs": [],
   "source": [
    "#Exporting data to csv file\n",
    "CTA.to_csv('CTA_wrangling.csv')"
   ]
  },
  {
   "cell_type": "code",
   "execution_count": null,
   "metadata": {},
   "outputs": [],
   "source": []
  }
 ],
 "metadata": {
  "kernelspec": {
   "display_name": "Python 3",
   "language": "python",
   "name": "python3"
  },
  "language_info": {
   "codemirror_mode": {
    "name": "ipython",
    "version": 3
   },
   "file_extension": ".py",
   "mimetype": "text/x-python",
   "name": "python",
   "nbconvert_exporter": "python",
   "pygments_lexer": "ipython3",
   "version": "3.8.11"
  }
 },
 "nbformat": 4,
 "nbformat_minor": 4
}
